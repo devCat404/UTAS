{
  "nbformat": 4,
  "nbformat_minor": 0,
  "metadata": {
    "colab": {
      "provenance": []
    },
    "kernelspec": {
      "name": "python3",
      "display_name": "Python 3"
    },
    "language_info": {
      "name": "python"
    }
  },
  "cells": [
    {
      "cell_type": "code",
      "execution_count": 2,
      "metadata": {
        "colab": {
          "base_uri": "https://localhost:8080/"
        },
        "id": "HyvbVCMrc7n_",
        "outputId": "22e73b0c-8dd1-46c2-ba32-3ca6339e8426"
      },
      "outputs": [
        {
          "output_type": "stream",
          "name": "stdout",
          "text": [
            "Mounted at /content/drive\n"
          ]
        }
      ],
      "source": [
        "from google.colab import drive\n",
        "drive.mount('/content/drive')"
      ]
    },
    {
      "cell_type": "code",
      "source": [
        "import os\n",
        "import pandas as pd\n",
        "import numpy as np\n",
        "import soundfile as sf\n",
        "import matplotlib.pyplot as plt\n",
        "import seaborn as sns\n",
        "import librosa\n",
        "from tqdm import tqdm\n",
        "import random\n",
        "import shutil\n",
        "from IPython.display import Audio\n",
        "from librosa.display import specshow\n",
        "from librosa.display import waveshow\n",
        "import uuid\n",
        "import shap\n",
        "from sklearn.ensemble import RandomForestClassifier\n",
        "from sklearn.inspection import permutation_importance\n",
        "from sklearn.model_selection import train_test_split\n",
        "from sklearn.preprocessing import LabelEncoder\n",
        "\n",
        "import warnings\n",
        "warnings.filterwarnings(\"ignore\", category=UserWarning)"
      ],
      "metadata": {
        "id": "yMgQ2M3DdETj"
      },
      "execution_count": 11,
      "outputs": []
    },
    {
      "cell_type": "code",
      "source": [
        "BASE_PATH = \"/content/drive/MyDrive/Colab Notebooks/AICOSS/Tasmanian_Birdsong/\"\n",
        "PATH = os.path.join(BASE_PATH, \"preprocessed.csv\")\n",
        "AUDIO = os.path.join(BASE_PATH, \"Input_audio\")\n",
        "\n",
        "df = pd.read_csv(PATH)\n",
        "df.head()"
      ],
      "metadata": {
        "colab": {
          "base_uri": "https://localhost:8080/",
          "height": 206
        },
        "id": "pXWX-uOddIaN",
        "outputId": "0a243289-95ae-40ef-ae5e-d347f0f048ce"
      },
      "execution_count": 5,
      "outputs": [
        {
          "output_type": "execute_result",
          "data": {
            "text/plain": [
              "                                            sample     species call_type  \\\n",
              "0    BD060A_CH01_20240328_220014_16kHz_290_320.wav  Masked Owl   screech   \n",
              "1    BD060A_CH01_20240331_210000_16kHz_660_690.wav  Masked Owl   screech   \n",
              "2  BD060A_CH01_20240331_210000_16kHz_1020_1050.wav  Masked Owl   screech   \n",
              "3         CH07_20240703_180000_16kHz_1380_1410.wav  Masked Owl   screech   \n",
              "4         CH07_20240703_180000_16kHz_1810_1840.wav  Masked Owl   screech   \n",
              "\n",
              "   start    end aug_method  \n",
              "0   9.00  12.36   original  \n",
              "1  19.96  23.96   original  \n",
              "2  16.06  18.13   original  \n",
              "3  23.12  25.19   original  \n",
              "4  18.65  20.72   original  "
            ],
            "text/html": [
              "\n",
              "  <div id=\"df-2cf65151-c8be-4195-aaf4-25c0ff63994e\" class=\"colab-df-container\">\n",
              "    <div>\n",
              "<style scoped>\n",
              "    .dataframe tbody tr th:only-of-type {\n",
              "        vertical-align: middle;\n",
              "    }\n",
              "\n",
              "    .dataframe tbody tr th {\n",
              "        vertical-align: top;\n",
              "    }\n",
              "\n",
              "    .dataframe thead th {\n",
              "        text-align: right;\n",
              "    }\n",
              "</style>\n",
              "<table border=\"1\" class=\"dataframe\">\n",
              "  <thead>\n",
              "    <tr style=\"text-align: right;\">\n",
              "      <th></th>\n",
              "      <th>sample</th>\n",
              "      <th>species</th>\n",
              "      <th>call_type</th>\n",
              "      <th>start</th>\n",
              "      <th>end</th>\n",
              "      <th>aug_method</th>\n",
              "    </tr>\n",
              "  </thead>\n",
              "  <tbody>\n",
              "    <tr>\n",
              "      <th>0</th>\n",
              "      <td>BD060A_CH01_20240328_220014_16kHz_290_320.wav</td>\n",
              "      <td>Masked Owl</td>\n",
              "      <td>screech</td>\n",
              "      <td>9.00</td>\n",
              "      <td>12.36</td>\n",
              "      <td>original</td>\n",
              "    </tr>\n",
              "    <tr>\n",
              "      <th>1</th>\n",
              "      <td>BD060A_CH01_20240331_210000_16kHz_660_690.wav</td>\n",
              "      <td>Masked Owl</td>\n",
              "      <td>screech</td>\n",
              "      <td>19.96</td>\n",
              "      <td>23.96</td>\n",
              "      <td>original</td>\n",
              "    </tr>\n",
              "    <tr>\n",
              "      <th>2</th>\n",
              "      <td>BD060A_CH01_20240331_210000_16kHz_1020_1050.wav</td>\n",
              "      <td>Masked Owl</td>\n",
              "      <td>screech</td>\n",
              "      <td>16.06</td>\n",
              "      <td>18.13</td>\n",
              "      <td>original</td>\n",
              "    </tr>\n",
              "    <tr>\n",
              "      <th>3</th>\n",
              "      <td>CH07_20240703_180000_16kHz_1380_1410.wav</td>\n",
              "      <td>Masked Owl</td>\n",
              "      <td>screech</td>\n",
              "      <td>23.12</td>\n",
              "      <td>25.19</td>\n",
              "      <td>original</td>\n",
              "    </tr>\n",
              "    <tr>\n",
              "      <th>4</th>\n",
              "      <td>CH07_20240703_180000_16kHz_1810_1840.wav</td>\n",
              "      <td>Masked Owl</td>\n",
              "      <td>screech</td>\n",
              "      <td>18.65</td>\n",
              "      <td>20.72</td>\n",
              "      <td>original</td>\n",
              "    </tr>\n",
              "  </tbody>\n",
              "</table>\n",
              "</div>\n",
              "    <div class=\"colab-df-buttons\">\n",
              "\n",
              "  <div class=\"colab-df-container\">\n",
              "    <button class=\"colab-df-convert\" onclick=\"convertToInteractive('df-2cf65151-c8be-4195-aaf4-25c0ff63994e')\"\n",
              "            title=\"Convert this dataframe to an interactive table.\"\n",
              "            style=\"display:none;\">\n",
              "\n",
              "  <svg xmlns=\"http://www.w3.org/2000/svg\" height=\"24px\" viewBox=\"0 -960 960 960\">\n",
              "    <path d=\"M120-120v-720h720v720H120Zm60-500h600v-160H180v160Zm220 220h160v-160H400v160Zm0 220h160v-160H400v160ZM180-400h160v-160H180v160Zm440 0h160v-160H620v160ZM180-180h160v-160H180v160Zm440 0h160v-160H620v160Z\"/>\n",
              "  </svg>\n",
              "    </button>\n",
              "\n",
              "  <style>\n",
              "    .colab-df-container {\n",
              "      display:flex;\n",
              "      gap: 12px;\n",
              "    }\n",
              "\n",
              "    .colab-df-convert {\n",
              "      background-color: #E8F0FE;\n",
              "      border: none;\n",
              "      border-radius: 50%;\n",
              "      cursor: pointer;\n",
              "      display: none;\n",
              "      fill: #1967D2;\n",
              "      height: 32px;\n",
              "      padding: 0 0 0 0;\n",
              "      width: 32px;\n",
              "    }\n",
              "\n",
              "    .colab-df-convert:hover {\n",
              "      background-color: #E2EBFA;\n",
              "      box-shadow: 0px 1px 2px rgba(60, 64, 67, 0.3), 0px 1px 3px 1px rgba(60, 64, 67, 0.15);\n",
              "      fill: #174EA6;\n",
              "    }\n",
              "\n",
              "    .colab-df-buttons div {\n",
              "      margin-bottom: 4px;\n",
              "    }\n",
              "\n",
              "    [theme=dark] .colab-df-convert {\n",
              "      background-color: #3B4455;\n",
              "      fill: #D2E3FC;\n",
              "    }\n",
              "\n",
              "    [theme=dark] .colab-df-convert:hover {\n",
              "      background-color: #434B5C;\n",
              "      box-shadow: 0px 1px 3px 1px rgba(0, 0, 0, 0.15);\n",
              "      filter: drop-shadow(0px 1px 2px rgba(0, 0, 0, 0.3));\n",
              "      fill: #FFFFFF;\n",
              "    }\n",
              "  </style>\n",
              "\n",
              "    <script>\n",
              "      const buttonEl =\n",
              "        document.querySelector('#df-2cf65151-c8be-4195-aaf4-25c0ff63994e button.colab-df-convert');\n",
              "      buttonEl.style.display =\n",
              "        google.colab.kernel.accessAllowed ? 'block' : 'none';\n",
              "\n",
              "      async function convertToInteractive(key) {\n",
              "        const element = document.querySelector('#df-2cf65151-c8be-4195-aaf4-25c0ff63994e');\n",
              "        const dataTable =\n",
              "          await google.colab.kernel.invokeFunction('convertToInteractive',\n",
              "                                                    [key], {});\n",
              "        if (!dataTable) return;\n",
              "\n",
              "        const docLinkHtml = 'Like what you see? Visit the ' +\n",
              "          '<a target=\"_blank\" href=https://colab.research.google.com/notebooks/data_table.ipynb>data table notebook</a>'\n",
              "          + ' to learn more about interactive tables.';\n",
              "        element.innerHTML = '';\n",
              "        dataTable['output_type'] = 'display_data';\n",
              "        await google.colab.output.renderOutput(dataTable, element);\n",
              "        const docLink = document.createElement('div');\n",
              "        docLink.innerHTML = docLinkHtml;\n",
              "        element.appendChild(docLink);\n",
              "      }\n",
              "    </script>\n",
              "  </div>\n",
              "\n",
              "\n",
              "    <div id=\"df-d78a028b-081d-496b-a8b5-4a89b0d1137a\">\n",
              "      <button class=\"colab-df-quickchart\" onclick=\"quickchart('df-d78a028b-081d-496b-a8b5-4a89b0d1137a')\"\n",
              "                title=\"Suggest charts\"\n",
              "                style=\"display:none;\">\n",
              "\n",
              "<svg xmlns=\"http://www.w3.org/2000/svg\" height=\"24px\"viewBox=\"0 0 24 24\"\n",
              "     width=\"24px\">\n",
              "    <g>\n",
              "        <path d=\"M19 3H5c-1.1 0-2 .9-2 2v14c0 1.1.9 2 2 2h14c1.1 0 2-.9 2-2V5c0-1.1-.9-2-2-2zM9 17H7v-7h2v7zm4 0h-2V7h2v10zm4 0h-2v-4h2v4z\"/>\n",
              "    </g>\n",
              "</svg>\n",
              "      </button>\n",
              "\n",
              "<style>\n",
              "  .colab-df-quickchart {\n",
              "      --bg-color: #E8F0FE;\n",
              "      --fill-color: #1967D2;\n",
              "      --hover-bg-color: #E2EBFA;\n",
              "      --hover-fill-color: #174EA6;\n",
              "      --disabled-fill-color: #AAA;\n",
              "      --disabled-bg-color: #DDD;\n",
              "  }\n",
              "\n",
              "  [theme=dark] .colab-df-quickchart {\n",
              "      --bg-color: #3B4455;\n",
              "      --fill-color: #D2E3FC;\n",
              "      --hover-bg-color: #434B5C;\n",
              "      --hover-fill-color: #FFFFFF;\n",
              "      --disabled-bg-color: #3B4455;\n",
              "      --disabled-fill-color: #666;\n",
              "  }\n",
              "\n",
              "  .colab-df-quickchart {\n",
              "    background-color: var(--bg-color);\n",
              "    border: none;\n",
              "    border-radius: 50%;\n",
              "    cursor: pointer;\n",
              "    display: none;\n",
              "    fill: var(--fill-color);\n",
              "    height: 32px;\n",
              "    padding: 0;\n",
              "    width: 32px;\n",
              "  }\n",
              "\n",
              "  .colab-df-quickchart:hover {\n",
              "    background-color: var(--hover-bg-color);\n",
              "    box-shadow: 0 1px 2px rgba(60, 64, 67, 0.3), 0 1px 3px 1px rgba(60, 64, 67, 0.15);\n",
              "    fill: var(--button-hover-fill-color);\n",
              "  }\n",
              "\n",
              "  .colab-df-quickchart-complete:disabled,\n",
              "  .colab-df-quickchart-complete:disabled:hover {\n",
              "    background-color: var(--disabled-bg-color);\n",
              "    fill: var(--disabled-fill-color);\n",
              "    box-shadow: none;\n",
              "  }\n",
              "\n",
              "  .colab-df-spinner {\n",
              "    border: 2px solid var(--fill-color);\n",
              "    border-color: transparent;\n",
              "    border-bottom-color: var(--fill-color);\n",
              "    animation:\n",
              "      spin 1s steps(1) infinite;\n",
              "  }\n",
              "\n",
              "  @keyframes spin {\n",
              "    0% {\n",
              "      border-color: transparent;\n",
              "      border-bottom-color: var(--fill-color);\n",
              "      border-left-color: var(--fill-color);\n",
              "    }\n",
              "    20% {\n",
              "      border-color: transparent;\n",
              "      border-left-color: var(--fill-color);\n",
              "      border-top-color: var(--fill-color);\n",
              "    }\n",
              "    30% {\n",
              "      border-color: transparent;\n",
              "      border-left-color: var(--fill-color);\n",
              "      border-top-color: var(--fill-color);\n",
              "      border-right-color: var(--fill-color);\n",
              "    }\n",
              "    40% {\n",
              "      border-color: transparent;\n",
              "      border-right-color: var(--fill-color);\n",
              "      border-top-color: var(--fill-color);\n",
              "    }\n",
              "    60% {\n",
              "      border-color: transparent;\n",
              "      border-right-color: var(--fill-color);\n",
              "    }\n",
              "    80% {\n",
              "      border-color: transparent;\n",
              "      border-right-color: var(--fill-color);\n",
              "      border-bottom-color: var(--fill-color);\n",
              "    }\n",
              "    90% {\n",
              "      border-color: transparent;\n",
              "      border-bottom-color: var(--fill-color);\n",
              "    }\n",
              "  }\n",
              "</style>\n",
              "\n",
              "      <script>\n",
              "        async function quickchart(key) {\n",
              "          const quickchartButtonEl =\n",
              "            document.querySelector('#' + key + ' button');\n",
              "          quickchartButtonEl.disabled = true;  // To prevent multiple clicks.\n",
              "          quickchartButtonEl.classList.add('colab-df-spinner');\n",
              "          try {\n",
              "            const charts = await google.colab.kernel.invokeFunction(\n",
              "                'suggestCharts', [key], {});\n",
              "          } catch (error) {\n",
              "            console.error('Error during call to suggestCharts:', error);\n",
              "          }\n",
              "          quickchartButtonEl.classList.remove('colab-df-spinner');\n",
              "          quickchartButtonEl.classList.add('colab-df-quickchart-complete');\n",
              "        }\n",
              "        (() => {\n",
              "          let quickchartButtonEl =\n",
              "            document.querySelector('#df-d78a028b-081d-496b-a8b5-4a89b0d1137a button');\n",
              "          quickchartButtonEl.style.display =\n",
              "            google.colab.kernel.accessAllowed ? 'block' : 'none';\n",
              "        })();\n",
              "      </script>\n",
              "    </div>\n",
              "\n",
              "    </div>\n",
              "  </div>\n"
            ],
            "application/vnd.google.colaboratory.intrinsic+json": {
              "type": "dataframe",
              "variable_name": "df",
              "summary": "{\n  \"name\": \"df\",\n  \"rows\": 2000,\n  \"fields\": [\n    {\n      \"column\": \"sample\",\n      \"properties\": {\n        \"dtype\": \"string\",\n        \"num_unique_values\": 2000,\n        \"samples\": [\n          \"TN039B_00045809_20241205T213900_16kHz_2430_2460(4)_pitch_ff251e78.wav\",\n          \"FR002A_20240710_230000_16kHz_150_180.wav\",\n          \"FR002A_CH07_20240705_220000_16kHz_3210_3240_stretch_3f16581e.wav\"\n        ],\n        \"semantic_type\": \"\",\n        \"description\": \"\"\n      }\n    },\n    {\n      \"column\": \"species\",\n      \"properties\": {\n        \"dtype\": \"category\",\n        \"num_unique_values\": 1,\n        \"samples\": [\n          \"Masked Owl\"\n        ],\n        \"semantic_type\": \"\",\n        \"description\": \"\"\n      }\n    },\n    {\n      \"column\": \"call_type\",\n      \"properties\": {\n        \"dtype\": \"category\",\n        \"num_unique_values\": 2,\n        \"samples\": [\n          \"chattering\"\n        ],\n        \"semantic_type\": \"\",\n        \"description\": \"\"\n      }\n    },\n    {\n      \"column\": \"start\",\n      \"properties\": {\n        \"dtype\": \"number\",\n        \"std\": 7.875367926374161,\n        \"min\": 0.02,\n        \"max\": 29.12,\n        \"num_unique_values\": 623,\n        \"samples\": [\n          11.69\n        ],\n        \"semantic_type\": \"\",\n        \"description\": \"\"\n      }\n    },\n    {\n      \"column\": \"end\",\n      \"properties\": {\n        \"dtype\": \"number\",\n        \"std\": 7.767188946231664,\n        \"min\": 1.75,\n        \"max\": 33.79,\n        \"num_unique_values\": 624,\n        \"samples\": [\n          23.92\n        ],\n        \"semantic_type\": \"\",\n        \"description\": \"\"\n      }\n    },\n    {\n      \"column\": \"aug_method\",\n      \"properties\": {\n        \"dtype\": \"category\",\n        \"num_unique_values\": 4,\n        \"samples\": [\n          \"pitch\"\n        ],\n        \"semantic_type\": \"\",\n        \"description\": \"\"\n      }\n    }\n  ]\n}"
            }
          },
          "metadata": {},
          "execution_count": 5
        }
      ]
    },
    {
      "cell_type": "code",
      "source": [
        "def extract_all_features(input_dir):\n",
        "    feature_list = []\n",
        "\n",
        "    for file in tqdm(sorted(os.listdir(input_dir)), desc=\"전체 특징 추출 중\"):\n",
        "        try:\n",
        "            file_path = os.path.join(input_dir, file)\n",
        "            y, sr = librosa.load(file_path, sr=None)\n",
        "\n",
        "            features = {'sample': file}\n",
        "\n",
        "            zcr = librosa.feature.zero_crossing_rate(y).flatten()\n",
        "            rms = librosa.feature.rms(y=y).flatten()\n",
        "            centroid = librosa.feature.spectral_centroid(y=y, sr=sr).flatten()\n",
        "            rolloff = librosa.feature.spectral_rolloff(y=y, sr=sr).flatten()\n",
        "            bandwidth = librosa.feature.spectral_bandwidth(y=y, sr=sr).flatten()\n",
        "\n",
        "            features['zcr_mean'] = np.mean(zcr)\n",
        "            features['zcr_std'] = np.std(zcr)\n",
        "            features['rms_mean'] = np.mean(rms)\n",
        "            features['rms_std'] = np.std(rms)\n",
        "            features['centroid_mean'] = np.mean(centroid)\n",
        "            features['centroid_std'] = np.std(centroid)\n",
        "            features['rolloff_mean'] = np.mean(rolloff)\n",
        "            features['rolloff_std'] = np.std(rolloff)\n",
        "            features['bandwidth_mean'] = np.mean(bandwidth)\n",
        "            features['bandwidth_std'] = np.std(bandwidth)\n",
        "\n",
        "            mfcc = librosa.feature.mfcc(y=y, sr=sr, n_mfcc=20)\n",
        "            for i in range(20):\n",
        "                features[f'mfcc_{i+1}_mean'] = np.mean(mfcc[i])\n",
        "                features[f'mfcc_{i+1}_std'] = np.std(mfcc[i])\n",
        "\n",
        "            chroma = librosa.feature.chroma_stft(y=y, sr=sr)\n",
        "            for i in range(12):\n",
        "                features[f'chroma_{i+1}_mean'] = np.mean(chroma[i])\n",
        "                features[f'chroma_{i+1}_std'] = np.std(chroma[i])\n",
        "\n",
        "            feature_list.append(features)\n",
        "\n",
        "        except Exception as e:\n",
        "            print(f\"[!] {file} 처리 중 오류: {e}\")\n",
        "\n",
        "    return pd.DataFrame(feature_list)"
      ],
      "metadata": {
        "id": "4LpOJnKAd6-C"
      },
      "execution_count": 6,
      "outputs": []
    },
    {
      "cell_type": "code",
      "source": [
        "features_df = extract_all_features(AUDIO)\n",
        "features_df.to_csv(os.path.join(BASE_PATH, \"audio_features_full.csv\"), index=False)\n",
        "features_df.head()"
      ],
      "metadata": {
        "colab": {
          "base_uri": "https://localhost:8080/",
          "height": 308
        },
        "id": "9_mj2jvJfXG1",
        "outputId": "3bf3f29a-c2af-4f8a-8f32-faef170209a2"
      },
      "execution_count": 7,
      "outputs": [
        {
          "output_type": "stream",
          "name": "stderr",
          "text": [
            "전체 특징 추출 중:  66%|██████▌   | 1316/2000 [02:39<00:33, 20.61it/s]/usr/local/lib/python3.11/dist-packages/librosa/core/pitch.py:103: UserWarning: Trying to estimate tuning from empty frequency set.\n",
            "  return pitch_tuning(\n",
            "전체 특징 추출 중: 100%|██████████| 2000/2000 [03:12<00:00, 10.38it/s]\n"
          ]
        },
        {
          "output_type": "execute_result",
          "data": {
            "text/plain": [
              "                                              sample  zcr_mean   zcr_std  \\\n",
              "0      BD060A_CH01_20240328_220014_16kHz_290_320.wav  0.211633  0.077423   \n",
              "1  BD060A_CH01_20240328_220014_16kHz_290_320_pitc...  0.233997  0.093046   \n",
              "2    BD060A_CH01_20240331_210000_16kHz_1020_1050.wav  0.377434  0.051184   \n",
              "3      BD060A_CH01_20240331_210000_16kHz_660_690.wav  0.242133  0.182935   \n",
              "4  BD060A_CH01_20240331_210000_16kHz_660_690_stre...  0.239510  0.188546   \n",
              "\n",
              "   rms_mean   rms_std  centroid_mean  centroid_std  rolloff_mean  rolloff_std  \\\n",
              "0  0.077280  0.095525    2242.702452    510.153839   4329.672759  1309.274354   \n",
              "1  0.051721  0.062038    2391.127311    523.739216   4597.214033  1347.075402   \n",
              "2  0.082788  0.023532    3487.427819    327.654064   6251.201923   282.536556   \n",
              "3  0.066327  0.087920    2420.391088   1551.519636   3389.570933  2047.867143   \n",
              "4  0.040243  0.056489    2395.650754   1555.557093   3609.933036  2023.409294   \n",
              "\n",
              "   bandwidth_mean  ...  chroma_8_mean  chroma_8_std  chroma_9_mean  \\\n",
              "0     1821.314296  ...       0.431625      0.341059       0.461831   \n",
              "1     1801.679950  ...       0.267230      0.220487       0.338727   \n",
              "2     2231.503633  ...       0.541196      0.289154       0.506308   \n",
              "3     1411.045919  ...       0.415824      0.316202       0.451835   \n",
              "4     1396.801684  ...       0.381462      0.328601       0.342956   \n",
              "\n",
              "   chroma_9_std  chroma_10_mean  chroma_10_std  chroma_11_mean  chroma_11_std  \\\n",
              "0      0.257414        0.514799       0.291456        0.520908       0.254151   \n",
              "1      0.242587        0.407989       0.336083        0.463828       0.255903   \n",
              "2      0.292377        0.503819       0.276046        0.521077       0.205002   \n",
              "3      0.304426        0.536810       0.345986        0.497229       0.306671   \n",
              "4      0.280425        0.447011       0.353195        0.445044       0.338443   \n",
              "\n",
              "   chroma_12_mean  chroma_12_std  \n",
              "0        0.570150       0.328782  \n",
              "1        0.532127       0.311737  \n",
              "2        0.733892       0.276116  \n",
              "3        0.451457       0.282508  \n",
              "4        0.437088       0.325377  \n",
              "\n",
              "[5 rows x 75 columns]"
            ],
            "text/html": [
              "\n",
              "  <div id=\"df-c05fbb1d-763c-4f7a-8071-b816ee98bffe\" class=\"colab-df-container\">\n",
              "    <div>\n",
              "<style scoped>\n",
              "    .dataframe tbody tr th:only-of-type {\n",
              "        vertical-align: middle;\n",
              "    }\n",
              "\n",
              "    .dataframe tbody tr th {\n",
              "        vertical-align: top;\n",
              "    }\n",
              "\n",
              "    .dataframe thead th {\n",
              "        text-align: right;\n",
              "    }\n",
              "</style>\n",
              "<table border=\"1\" class=\"dataframe\">\n",
              "  <thead>\n",
              "    <tr style=\"text-align: right;\">\n",
              "      <th></th>\n",
              "      <th>sample</th>\n",
              "      <th>zcr_mean</th>\n",
              "      <th>zcr_std</th>\n",
              "      <th>rms_mean</th>\n",
              "      <th>rms_std</th>\n",
              "      <th>centroid_mean</th>\n",
              "      <th>centroid_std</th>\n",
              "      <th>rolloff_mean</th>\n",
              "      <th>rolloff_std</th>\n",
              "      <th>bandwidth_mean</th>\n",
              "      <th>...</th>\n",
              "      <th>chroma_8_mean</th>\n",
              "      <th>chroma_8_std</th>\n",
              "      <th>chroma_9_mean</th>\n",
              "      <th>chroma_9_std</th>\n",
              "      <th>chroma_10_mean</th>\n",
              "      <th>chroma_10_std</th>\n",
              "      <th>chroma_11_mean</th>\n",
              "      <th>chroma_11_std</th>\n",
              "      <th>chroma_12_mean</th>\n",
              "      <th>chroma_12_std</th>\n",
              "    </tr>\n",
              "  </thead>\n",
              "  <tbody>\n",
              "    <tr>\n",
              "      <th>0</th>\n",
              "      <td>BD060A_CH01_20240328_220014_16kHz_290_320.wav</td>\n",
              "      <td>0.211633</td>\n",
              "      <td>0.077423</td>\n",
              "      <td>0.077280</td>\n",
              "      <td>0.095525</td>\n",
              "      <td>2242.702452</td>\n",
              "      <td>510.153839</td>\n",
              "      <td>4329.672759</td>\n",
              "      <td>1309.274354</td>\n",
              "      <td>1821.314296</td>\n",
              "      <td>...</td>\n",
              "      <td>0.431625</td>\n",
              "      <td>0.341059</td>\n",
              "      <td>0.461831</td>\n",
              "      <td>0.257414</td>\n",
              "      <td>0.514799</td>\n",
              "      <td>0.291456</td>\n",
              "      <td>0.520908</td>\n",
              "      <td>0.254151</td>\n",
              "      <td>0.570150</td>\n",
              "      <td>0.328782</td>\n",
              "    </tr>\n",
              "    <tr>\n",
              "      <th>1</th>\n",
              "      <td>BD060A_CH01_20240328_220014_16kHz_290_320_pitc...</td>\n",
              "      <td>0.233997</td>\n",
              "      <td>0.093046</td>\n",
              "      <td>0.051721</td>\n",
              "      <td>0.062038</td>\n",
              "      <td>2391.127311</td>\n",
              "      <td>523.739216</td>\n",
              "      <td>4597.214033</td>\n",
              "      <td>1347.075402</td>\n",
              "      <td>1801.679950</td>\n",
              "      <td>...</td>\n",
              "      <td>0.267230</td>\n",
              "      <td>0.220487</td>\n",
              "      <td>0.338727</td>\n",
              "      <td>0.242587</td>\n",
              "      <td>0.407989</td>\n",
              "      <td>0.336083</td>\n",
              "      <td>0.463828</td>\n",
              "      <td>0.255903</td>\n",
              "      <td>0.532127</td>\n",
              "      <td>0.311737</td>\n",
              "    </tr>\n",
              "    <tr>\n",
              "      <th>2</th>\n",
              "      <td>BD060A_CH01_20240331_210000_16kHz_1020_1050.wav</td>\n",
              "      <td>0.377434</td>\n",
              "      <td>0.051184</td>\n",
              "      <td>0.082788</td>\n",
              "      <td>0.023532</td>\n",
              "      <td>3487.427819</td>\n",
              "      <td>327.654064</td>\n",
              "      <td>6251.201923</td>\n",
              "      <td>282.536556</td>\n",
              "      <td>2231.503633</td>\n",
              "      <td>...</td>\n",
              "      <td>0.541196</td>\n",
              "      <td>0.289154</td>\n",
              "      <td>0.506308</td>\n",
              "      <td>0.292377</td>\n",
              "      <td>0.503819</td>\n",
              "      <td>0.276046</td>\n",
              "      <td>0.521077</td>\n",
              "      <td>0.205002</td>\n",
              "      <td>0.733892</td>\n",
              "      <td>0.276116</td>\n",
              "    </tr>\n",
              "    <tr>\n",
              "      <th>3</th>\n",
              "      <td>BD060A_CH01_20240331_210000_16kHz_660_690.wav</td>\n",
              "      <td>0.242133</td>\n",
              "      <td>0.182935</td>\n",
              "      <td>0.066327</td>\n",
              "      <td>0.087920</td>\n",
              "      <td>2420.391088</td>\n",
              "      <td>1551.519636</td>\n",
              "      <td>3389.570933</td>\n",
              "      <td>2047.867143</td>\n",
              "      <td>1411.045919</td>\n",
              "      <td>...</td>\n",
              "      <td>0.415824</td>\n",
              "      <td>0.316202</td>\n",
              "      <td>0.451835</td>\n",
              "      <td>0.304426</td>\n",
              "      <td>0.536810</td>\n",
              "      <td>0.345986</td>\n",
              "      <td>0.497229</td>\n",
              "      <td>0.306671</td>\n",
              "      <td>0.451457</td>\n",
              "      <td>0.282508</td>\n",
              "    </tr>\n",
              "    <tr>\n",
              "      <th>4</th>\n",
              "      <td>BD060A_CH01_20240331_210000_16kHz_660_690_stre...</td>\n",
              "      <td>0.239510</td>\n",
              "      <td>0.188546</td>\n",
              "      <td>0.040243</td>\n",
              "      <td>0.056489</td>\n",
              "      <td>2395.650754</td>\n",
              "      <td>1555.557093</td>\n",
              "      <td>3609.933036</td>\n",
              "      <td>2023.409294</td>\n",
              "      <td>1396.801684</td>\n",
              "      <td>...</td>\n",
              "      <td>0.381462</td>\n",
              "      <td>0.328601</td>\n",
              "      <td>0.342956</td>\n",
              "      <td>0.280425</td>\n",
              "      <td>0.447011</td>\n",
              "      <td>0.353195</td>\n",
              "      <td>0.445044</td>\n",
              "      <td>0.338443</td>\n",
              "      <td>0.437088</td>\n",
              "      <td>0.325377</td>\n",
              "    </tr>\n",
              "  </tbody>\n",
              "</table>\n",
              "<p>5 rows × 75 columns</p>\n",
              "</div>\n",
              "    <div class=\"colab-df-buttons\">\n",
              "\n",
              "  <div class=\"colab-df-container\">\n",
              "    <button class=\"colab-df-convert\" onclick=\"convertToInteractive('df-c05fbb1d-763c-4f7a-8071-b816ee98bffe')\"\n",
              "            title=\"Convert this dataframe to an interactive table.\"\n",
              "            style=\"display:none;\">\n",
              "\n",
              "  <svg xmlns=\"http://www.w3.org/2000/svg\" height=\"24px\" viewBox=\"0 -960 960 960\">\n",
              "    <path d=\"M120-120v-720h720v720H120Zm60-500h600v-160H180v160Zm220 220h160v-160H400v160Zm0 220h160v-160H400v160ZM180-400h160v-160H180v160Zm440 0h160v-160H620v160ZM180-180h160v-160H180v160Zm440 0h160v-160H620v160Z\"/>\n",
              "  </svg>\n",
              "    </button>\n",
              "\n",
              "  <style>\n",
              "    .colab-df-container {\n",
              "      display:flex;\n",
              "      gap: 12px;\n",
              "    }\n",
              "\n",
              "    .colab-df-convert {\n",
              "      background-color: #E8F0FE;\n",
              "      border: none;\n",
              "      border-radius: 50%;\n",
              "      cursor: pointer;\n",
              "      display: none;\n",
              "      fill: #1967D2;\n",
              "      height: 32px;\n",
              "      padding: 0 0 0 0;\n",
              "      width: 32px;\n",
              "    }\n",
              "\n",
              "    .colab-df-convert:hover {\n",
              "      background-color: #E2EBFA;\n",
              "      box-shadow: 0px 1px 2px rgba(60, 64, 67, 0.3), 0px 1px 3px 1px rgba(60, 64, 67, 0.15);\n",
              "      fill: #174EA6;\n",
              "    }\n",
              "\n",
              "    .colab-df-buttons div {\n",
              "      margin-bottom: 4px;\n",
              "    }\n",
              "\n",
              "    [theme=dark] .colab-df-convert {\n",
              "      background-color: #3B4455;\n",
              "      fill: #D2E3FC;\n",
              "    }\n",
              "\n",
              "    [theme=dark] .colab-df-convert:hover {\n",
              "      background-color: #434B5C;\n",
              "      box-shadow: 0px 1px 3px 1px rgba(0, 0, 0, 0.15);\n",
              "      filter: drop-shadow(0px 1px 2px rgba(0, 0, 0, 0.3));\n",
              "      fill: #FFFFFF;\n",
              "    }\n",
              "  </style>\n",
              "\n",
              "    <script>\n",
              "      const buttonEl =\n",
              "        document.querySelector('#df-c05fbb1d-763c-4f7a-8071-b816ee98bffe button.colab-df-convert');\n",
              "      buttonEl.style.display =\n",
              "        google.colab.kernel.accessAllowed ? 'block' : 'none';\n",
              "\n",
              "      async function convertToInteractive(key) {\n",
              "        const element = document.querySelector('#df-c05fbb1d-763c-4f7a-8071-b816ee98bffe');\n",
              "        const dataTable =\n",
              "          await google.colab.kernel.invokeFunction('convertToInteractive',\n",
              "                                                    [key], {});\n",
              "        if (!dataTable) return;\n",
              "\n",
              "        const docLinkHtml = 'Like what you see? Visit the ' +\n",
              "          '<a target=\"_blank\" href=https://colab.research.google.com/notebooks/data_table.ipynb>data table notebook</a>'\n",
              "          + ' to learn more about interactive tables.';\n",
              "        element.innerHTML = '';\n",
              "        dataTable['output_type'] = 'display_data';\n",
              "        await google.colab.output.renderOutput(dataTable, element);\n",
              "        const docLink = document.createElement('div');\n",
              "        docLink.innerHTML = docLinkHtml;\n",
              "        element.appendChild(docLink);\n",
              "      }\n",
              "    </script>\n",
              "  </div>\n",
              "\n",
              "\n",
              "    <div id=\"df-3c39d47c-b16b-4645-8475-e36c952a11a7\">\n",
              "      <button class=\"colab-df-quickchart\" onclick=\"quickchart('df-3c39d47c-b16b-4645-8475-e36c952a11a7')\"\n",
              "                title=\"Suggest charts\"\n",
              "                style=\"display:none;\">\n",
              "\n",
              "<svg xmlns=\"http://www.w3.org/2000/svg\" height=\"24px\"viewBox=\"0 0 24 24\"\n",
              "     width=\"24px\">\n",
              "    <g>\n",
              "        <path d=\"M19 3H5c-1.1 0-2 .9-2 2v14c0 1.1.9 2 2 2h14c1.1 0 2-.9 2-2V5c0-1.1-.9-2-2-2zM9 17H7v-7h2v7zm4 0h-2V7h2v10zm4 0h-2v-4h2v4z\"/>\n",
              "    </g>\n",
              "</svg>\n",
              "      </button>\n",
              "\n",
              "<style>\n",
              "  .colab-df-quickchart {\n",
              "      --bg-color: #E8F0FE;\n",
              "      --fill-color: #1967D2;\n",
              "      --hover-bg-color: #E2EBFA;\n",
              "      --hover-fill-color: #174EA6;\n",
              "      --disabled-fill-color: #AAA;\n",
              "      --disabled-bg-color: #DDD;\n",
              "  }\n",
              "\n",
              "  [theme=dark] .colab-df-quickchart {\n",
              "      --bg-color: #3B4455;\n",
              "      --fill-color: #D2E3FC;\n",
              "      --hover-bg-color: #434B5C;\n",
              "      --hover-fill-color: #FFFFFF;\n",
              "      --disabled-bg-color: #3B4455;\n",
              "      --disabled-fill-color: #666;\n",
              "  }\n",
              "\n",
              "  .colab-df-quickchart {\n",
              "    background-color: var(--bg-color);\n",
              "    border: none;\n",
              "    border-radius: 50%;\n",
              "    cursor: pointer;\n",
              "    display: none;\n",
              "    fill: var(--fill-color);\n",
              "    height: 32px;\n",
              "    padding: 0;\n",
              "    width: 32px;\n",
              "  }\n",
              "\n",
              "  .colab-df-quickchart:hover {\n",
              "    background-color: var(--hover-bg-color);\n",
              "    box-shadow: 0 1px 2px rgba(60, 64, 67, 0.3), 0 1px 3px 1px rgba(60, 64, 67, 0.15);\n",
              "    fill: var(--button-hover-fill-color);\n",
              "  }\n",
              "\n",
              "  .colab-df-quickchart-complete:disabled,\n",
              "  .colab-df-quickchart-complete:disabled:hover {\n",
              "    background-color: var(--disabled-bg-color);\n",
              "    fill: var(--disabled-fill-color);\n",
              "    box-shadow: none;\n",
              "  }\n",
              "\n",
              "  .colab-df-spinner {\n",
              "    border: 2px solid var(--fill-color);\n",
              "    border-color: transparent;\n",
              "    border-bottom-color: var(--fill-color);\n",
              "    animation:\n",
              "      spin 1s steps(1) infinite;\n",
              "  }\n",
              "\n",
              "  @keyframes spin {\n",
              "    0% {\n",
              "      border-color: transparent;\n",
              "      border-bottom-color: var(--fill-color);\n",
              "      border-left-color: var(--fill-color);\n",
              "    }\n",
              "    20% {\n",
              "      border-color: transparent;\n",
              "      border-left-color: var(--fill-color);\n",
              "      border-top-color: var(--fill-color);\n",
              "    }\n",
              "    30% {\n",
              "      border-color: transparent;\n",
              "      border-left-color: var(--fill-color);\n",
              "      border-top-color: var(--fill-color);\n",
              "      border-right-color: var(--fill-color);\n",
              "    }\n",
              "    40% {\n",
              "      border-color: transparent;\n",
              "      border-right-color: var(--fill-color);\n",
              "      border-top-color: var(--fill-color);\n",
              "    }\n",
              "    60% {\n",
              "      border-color: transparent;\n",
              "      border-right-color: var(--fill-color);\n",
              "    }\n",
              "    80% {\n",
              "      border-color: transparent;\n",
              "      border-right-color: var(--fill-color);\n",
              "      border-bottom-color: var(--fill-color);\n",
              "    }\n",
              "    90% {\n",
              "      border-color: transparent;\n",
              "      border-bottom-color: var(--fill-color);\n",
              "    }\n",
              "  }\n",
              "</style>\n",
              "\n",
              "      <script>\n",
              "        async function quickchart(key) {\n",
              "          const quickchartButtonEl =\n",
              "            document.querySelector('#' + key + ' button');\n",
              "          quickchartButtonEl.disabled = true;  // To prevent multiple clicks.\n",
              "          quickchartButtonEl.classList.add('colab-df-spinner');\n",
              "          try {\n",
              "            const charts = await google.colab.kernel.invokeFunction(\n",
              "                'suggestCharts', [key], {});\n",
              "          } catch (error) {\n",
              "            console.error('Error during call to suggestCharts:', error);\n",
              "          }\n",
              "          quickchartButtonEl.classList.remove('colab-df-spinner');\n",
              "          quickchartButtonEl.classList.add('colab-df-quickchart-complete');\n",
              "        }\n",
              "        (() => {\n",
              "          let quickchartButtonEl =\n",
              "            document.querySelector('#df-3c39d47c-b16b-4645-8475-e36c952a11a7 button');\n",
              "          quickchartButtonEl.style.display =\n",
              "            google.colab.kernel.accessAllowed ? 'block' : 'none';\n",
              "        })();\n",
              "      </script>\n",
              "    </div>\n",
              "\n",
              "    </div>\n",
              "  </div>\n"
            ],
            "application/vnd.google.colaboratory.intrinsic+json": {
              "type": "dataframe",
              "variable_name": "features_df"
            }
          },
          "metadata": {},
          "execution_count": 7
        }
      ]
    },
    {
      "cell_type": "code",
      "source": [
        "df_merged = features_df.merge(df[['sample', 'call_type']], on='sample')\n",
        "\n",
        "X = df_merged.drop(columns=['sample', 'call_type'])\n",
        "y = LabelEncoder().fit_transform(df_merged['call_type'])\n",
        "\n",
        "X_train, X_test, y_train, y_test = train_test_split(X, y, test_size=0.2, random_state=42)\n",
        "\n",
        "rf = RandomForestClassifier(n_estimators=100, random_state=42)\n",
        "rf.fit(X_train, y_train)\n",
        "\n",
        "perm = permutation_importance(rf, X_test, y_test, n_repeats=10, random_state=42)\n",
        "\n",
        "perm_df = pd.DataFrame({\n",
        "    'feature': X.columns,\n",
        "    'importance': perm.importances_mean\n",
        "}).sort_values(by='importance', ascending=False)\n",
        "\n",
        "plt.figure(figsize=(12, 6))\n",
        "sns.barplot(x='feature', y='importance', data=perm_df, palette='pastel')\n",
        "plt.xticks(rotation=90)\n",
        "plt.title(\"Permutation Importance\")\n",
        "plt.tight_layout()\n",
        "plt.show()"
      ],
      "metadata": {
        "colab": {
          "base_uri": "https://localhost:8080/",
          "height": 694
        },
        "id": "G4z--PVkgtWM",
        "outputId": "a5056529-3bb7-46bc-eb22-ea5436f24b74"
      },
      "execution_count": 26,
      "outputs": [
        {
          "output_type": "stream",
          "name": "stderr",
          "text": [
            "/tmp/ipython-input-26-3315493907.py:19: FutureWarning: \n",
            "\n",
            "Passing `palette` without assigning `hue` is deprecated and will be removed in v0.14.0. Assign the `x` variable to `hue` and set `legend=False` for the same effect.\n",
            "\n",
            "  sns.barplot(x='feature', y='importance', data=perm_df, palette='pastel')\n"
          ]
        },
        {
          "output_type": "display_data",
          "data": {
            "text/plain": [
              "<Figure size 1200x600 with 1 Axes>"
            ],
            "image/png": "[encoded data removed]"
          },
          "metadata": {}
        }
      ]
    },
    {
      "cell_type": "code",
      "source": [
        "explainer = shap.Explainer(rf, X)\n",
        "shap_values = explainer(X)"
      ],
      "metadata": {
        "colab": {
          "base_uri": "https://localhost:8080/"
        },
        "id": "e_Z6mNFFkX0l",
        "outputId": "e6f42f39-242a-4522-d112-74bdd8ce1b27"
      },
      "execution_count": 30,
      "outputs": [
        {
          "output_type": "stream",
          "name": "stderr",
          "text": [
            "100%|===================| 3985/4000 [01:04<00:00]       "
          ]
        }
      ]
    },
    {
      "cell_type": "code",
      "source": [
        "shap_values_class0 = shap_values[:, :, 0]\n",
        "shap.plots.bar(shap_values_class0, max_display=11)"
      ],
      "metadata": {
        "colab": {
          "base_uri": "https://localhost:8080/",
          "height": 624
        },
        "id": "k1I_gugqlzjX",
        "outputId": "e856e5b2-43c2-40f7-94c8-64c3ff7764e7"
      },
      "execution_count": 32,
      "outputs": [
        {
          "output_type": "display_data",
          "data": {
            "text/plain": [
              "<Figure size 800x700 with 1 Axes>"
            ],
            "image/png": "[encoded data removed]"
          },
          "metadata": {}
        }
      ]
    },
    {
      "cell_type": "code",
      "source": [
        "shap_values_class1 = shap_values[:, :, 1]\n",
        "shap.plots.bar(shap_values_class1, max_display=11)"
      ],
      "metadata": {
        "colab": {
          "base_uri": "https://localhost:8080/",
          "height": 624
        },
        "id": "1lMfW9twrUaJ",
        "outputId": "2294240e-cdc8-4814-a585-2753aab95e09"
      },
      "execution_count": 33,
      "outputs": [
        {
          "output_type": "display_data",
          "data": {
            "text/plain": [
              "<Figure size 800x700 with 1 Axes>"
            ],
            "image/png": "[encoded data removed]"
          },
          "metadata": {}
        }
      ]
    },
    {
      "cell_type": "code",
      "source": [
        "mean_importance = np.abs(shap_values_class0.values).mean(axis=0)\n",
        "\n",
        "feature_names = X.columns.tolist()\n",
        "\n",
        "importance_df = pd.DataFrame({\n",
        "    'feature': feature_names,\n",
        "    'importance': mean_importance\n",
        "})\n",
        "\n",
        "top_df = importance_df.sort_values(by='importance', ascending=False).head(10).reset_index(drop=True)\n",
        "\n",
        "top_df.head(10)"
      ],
      "metadata": {
        "colab": {
          "base_uri": "https://localhost:8080/",
          "height": 363
        },
        "id": "hsLtT44Mqxs9",
        "outputId": "c9facc91-13e2-45ea-a303-7edacad91082"
      },
      "execution_count": 35,
      "outputs": [
        {
          "output_type": "execute_result",
          "data": {
            "text/plain": [
              "          feature  importance\n",
              "0      mfcc_7_std    0.072925\n",
              "1      mfcc_5_std    0.055047\n",
              "2   chroma_4_mean    0.047503\n",
              "3        zcr_mean    0.024687\n",
              "4   chroma_5_mean    0.023551\n",
              "5   chroma_3_mean    0.020229\n",
              "6     mfcc_3_mean    0.019401\n",
              "7      mfcc_3_std    0.017682\n",
              "8     mfcc_2_mean    0.015418\n",
              "9  chroma_11_mean    0.013301"
            ],
            "text/html": [
              "\n",
              "  <div id=\"df-5051ed2c-ffc9-4f2c-95b6-56133b6e3321\" class=\"colab-df-container\">\n",
              "    <div>\n",
              "<style scoped>\n",
              "    .dataframe tbody tr th:only-of-type {\n",
              "        vertical-align: middle;\n",
              "    }\n",
              "\n",
              "    .dataframe tbody tr th {\n",
              "        vertical-align: top;\n",
              "    }\n",
              "\n",
              "    .dataframe thead th {\n",
              "        text-align: right;\n",
              "    }\n",
              "</style>\n",
              "<table border=\"1\" class=\"dataframe\">\n",
              "  <thead>\n",
              "    <tr style=\"text-align: right;\">\n",
              "      <th></th>\n",
              "      <th>feature</th>\n",
              "      <th>importance</th>\n",
              "    </tr>\n",
              "  </thead>\n",
              "  <tbody>\n",
              "    <tr>\n",
              "      <th>0</th>\n",
              "      <td>mfcc_7_std</td>\n",
              "      <td>0.072925</td>\n",
              "    </tr>\n",
              "    <tr>\n",
              "      <th>1</th>\n",
              "      <td>mfcc_5_std</td>\n",
              "      <td>0.055047</td>\n",
              "    </tr>\n",
              "    <tr>\n",
              "      <th>2</th>\n",
              "      <td>chroma_4_mean</td>\n",
              "      <td>0.047503</td>\n",
              "    </tr>\n",
              "    <tr>\n",
              "      <th>3</th>\n",
              "      <td>zcr_mean</td>\n",
              "      <td>0.024687</td>\n",
              "    </tr>\n",
              "    <tr>\n",
              "      <th>4</th>\n",
              "      <td>chroma_5_mean</td>\n",
              "      <td>0.023551</td>\n",
              "    </tr>\n",
              "    <tr>\n",
              "      <th>5</th>\n",
              "      <td>chroma_3_mean</td>\n",
              "      <td>0.020229</td>\n",
              "    </tr>\n",
              "    <tr>\n",
              "      <th>6</th>\n",
              "      <td>mfcc_3_mean</td>\n",
              "      <td>0.019401</td>\n",
              "    </tr>\n",
              "    <tr>\n",
              "      <th>7</th>\n",
              "      <td>mfcc_3_std</td>\n",
              "      <td>0.017682</td>\n",
              "    </tr>\n",
              "    <tr>\n",
              "      <th>8</th>\n",
              "      <td>mfcc_2_mean</td>\n",
              "      <td>0.015418</td>\n",
              "    </tr>\n",
              "    <tr>\n",
              "      <th>9</th>\n",
              "      <td>chroma_11_mean</td>\n",
              "      <td>0.013301</td>\n",
              "    </tr>\n",
              "  </tbody>\n",
              "</table>\n",
              "</div>\n",
              "    <div class=\"colab-df-buttons\">\n",
              "\n",
              "  <div class=\"colab-df-container\">\n",
              "    <button class=\"colab-df-convert\" onclick=\"convertToInteractive('df-5051ed2c-ffc9-4f2c-95b6-56133b6e3321')\"\n",
              "            title=\"Convert this dataframe to an interactive table.\"\n",
              "            style=\"display:none;\">\n",
              "\n",
              "  <svg xmlns=\"http://www.w3.org/2000/svg\" height=\"24px\" viewBox=\"0 -960 960 960\">\n",
              "    <path d=\"M120-120v-720h720v720H120Zm60-500h600v-160H180v160Zm220 220h160v-160H400v160Zm0 220h160v-160H400v160ZM180-400h160v-160H180v160Zm440 0h160v-160H620v160ZM180-180h160v-160H180v160Zm440 0h160v-160H620v160Z\"/>\n",
              "  </svg>\n",
              "    </button>\n",
              "\n",
              "  <style>\n",
              "    .colab-df-container {\n",
              "      display:flex;\n",
              "      gap: 12px;\n",
              "    }\n",
              "\n",
              "    .colab-df-convert {\n",
              "      background-color: #E8F0FE;\n",
              "      border: none;\n",
              "      border-radius: 50%;\n",
              "      cursor: pointer;\n",
              "      display: none;\n",
              "      fill: #1967D2;\n",
              "      height: 32px;\n",
              "      padding: 0 0 0 0;\n",
              "      width: 32px;\n",
              "    }\n",
              "\n",
              "    .colab-df-convert:hover {\n",
              "      background-color: #E2EBFA;\n",
              "      box-shadow: 0px 1px 2px rgba(60, 64, 67, 0.3), 0px 1px 3px 1px rgba(60, 64, 67, 0.15);\n",
              "      fill: #174EA6;\n",
              "    }\n",
              "\n",
              "    .colab-df-buttons div {\n",
              "      margin-bottom: 4px;\n",
              "    }\n",
              "\n",
              "    [theme=dark] .colab-df-convert {\n",
              "      background-color: #3B4455;\n",
              "      fill: #D2E3FC;\n",
              "    }\n",
              "\n",
              "    [theme=dark] .colab-df-convert:hover {\n",
              "      background-color: #434B5C;\n",
              "      box-shadow: 0px 1px 3px 1px rgba(0, 0, 0, 0.15);\n",
              "      filter: drop-shadow(0px 1px 2px rgba(0, 0, 0, 0.3));\n",
              "      fill: #FFFFFF;\n",
              "    }\n",
              "  </style>\n",
              "\n",
              "    <script>\n",
              "      const buttonEl =\n",
              "        document.querySelector('#df-5051ed2c-ffc9-4f2c-95b6-56133b6e3321 button.colab-df-convert');\n",
              "      buttonEl.style.display =\n",
              "        google.colab.kernel.accessAllowed ? 'block' : 'none';\n",
              "\n",
              "      async function convertToInteractive(key) {\n",
              "        const element = document.querySelector('#df-5051ed2c-ffc9-4f2c-95b6-56133b6e3321');\n",
              "        const dataTable =\n",
              "          await google.colab.kernel.invokeFunction('convertToInteractive',\n",
              "                                                    [key], {});\n",
              "        if (!dataTable) return;\n",
              "\n",
              "        const docLinkHtml = 'Like what you see? Visit the ' +\n",
              "          '<a target=\"_blank\" href=https://colab.research.google.com/notebooks/data_table.ipynb>data table notebook</a>'\n",
              "          + ' to learn more about interactive tables.';\n",
              "        element.innerHTML = '';\n",
              "        dataTable['output_type'] = 'display_data';\n",
              "        await google.colab.output.renderOutput(dataTable, element);\n",
              "        const docLink = document.createElement('div');\n",
              "        docLink.innerHTML = docLinkHtml;\n",
              "        element.appendChild(docLink);\n",
              "      }\n",
              "    </script>\n",
              "  </div>\n",
              "\n",
              "\n",
              "    <div id=\"df-0cd24b84-ec86-4efa-bcce-2f5120573f96\">\n",
              "      <button class=\"colab-df-quickchart\" onclick=\"quickchart('df-0cd24b84-ec86-4efa-bcce-2f5120573f96')\"\n",
              "                title=\"Suggest charts\"\n",
              "                style=\"display:none;\">\n",
              "\n",
              "<svg xmlns=\"http://www.w3.org/2000/svg\" height=\"24px\"viewBox=\"0 0 24 24\"\n",
              "     width=\"24px\">\n",
              "    <g>\n",
              "        <path d=\"M19 3H5c-1.1 0-2 .9-2 2v14c0 1.1.9 2 2 2h14c1.1 0 2-.9 2-2V5c0-1.1-.9-2-2-2zM9 17H7v-7h2v7zm4 0h-2V7h2v10zm4 0h-2v-4h2v4z\"/>\n",
              "    </g>\n",
              "</svg>\n",
              "      </button>\n",
              "\n",
              "<style>\n",
              "  .colab-df-quickchart {\n",
              "      --bg-color: #E8F0FE;\n",
              "      --fill-color: #1967D2;\n",
              "      --hover-bg-color: #E2EBFA;\n",
              "      --hover-fill-color: #174EA6;\n",
              "      --disabled-fill-color: #AAA;\n",
              "      --disabled-bg-color: #DDD;\n",
              "  }\n",
              "\n",
              "  [theme=dark] .colab-df-quickchart {\n",
              "      --bg-color: #3B4455;\n",
              "      --fill-color: #D2E3FC;\n",
              "      --hover-bg-color: #434B5C;\n",
              "      --hover-fill-color: #FFFFFF;\n",
              "      --disabled-bg-color: #3B4455;\n",
              "      --disabled-fill-color: #666;\n",
              "  }\n",
              "\n",
              "  .colab-df-quickchart {\n",
              "    background-color: var(--bg-color);\n",
              "    border: none;\n",
              "    border-radius: 50%;\n",
              "    cursor: pointer;\n",
              "    display: none;\n",
              "    fill: var(--fill-color);\n",
              "    height: 32px;\n",
              "    padding: 0;\n",
              "    width: 32px;\n",
              "  }\n",
              "\n",
              "  .colab-df-quickchart:hover {\n",
              "    background-color: var(--hover-bg-color);\n",
              "    box-shadow: 0 1px 2px rgba(60, 64, 67, 0.3), 0 1px 3px 1px rgba(60, 64, 67, 0.15);\n",
              "    fill: var(--button-hover-fill-color);\n",
              "  }\n",
              "\n",
              "  .colab-df-quickchart-complete:disabled,\n",
              "  .colab-df-quickchart-complete:disabled:hover {\n",
              "    background-color: var(--disabled-bg-color);\n",
              "    fill: var(--disabled-fill-color);\n",
              "    box-shadow: none;\n",
              "  }\n",
              "\n",
              "  .colab-df-spinner {\n",
              "    border: 2px solid var(--fill-color);\n",
              "    border-color: transparent;\n",
              "    border-bottom-color: var(--fill-color);\n",
              "    animation:\n",
              "      spin 1s steps(1) infinite;\n",
              "  }\n",
              "\n",
              "  @keyframes spin {\n",
              "    0% {\n",
              "      border-color: transparent;\n",
              "      border-bottom-color: var(--fill-color);\n",
              "      border-left-color: var(--fill-color);\n",
              "    }\n",
              "    20% {\n",
              "      border-color: transparent;\n",
              "      border-left-color: var(--fill-color);\n",
              "      border-top-color: var(--fill-color);\n",
              "    }\n",
              "    30% {\n",
              "      border-color: transparent;\n",
              "      border-left-color: var(--fill-color);\n",
              "      border-top-color: var(--fill-color);\n",
              "      border-right-color: var(--fill-color);\n",
              "    }\n",
              "    40% {\n",
              "      border-color: transparent;\n",
              "      border-right-color: var(--fill-color);\n",
              "      border-top-color: var(--fill-color);\n",
              "    }\n",
              "    60% {\n",
              "      border-color: transparent;\n",
              "      border-right-color: var(--fill-color);\n",
              "    }\n",
              "    80% {\n",
              "      border-color: transparent;\n",
              "      border-right-color: var(--fill-color);\n",
              "      border-bottom-color: var(--fill-color);\n",
              "    }\n",
              "    90% {\n",
              "      border-color: transparent;\n",
              "      border-bottom-color: var(--fill-color);\n",
              "    }\n",
              "  }\n",
              "</style>\n",
              "\n",
              "      <script>\n",
              "        async function quickchart(key) {\n",
              "          const quickchartButtonEl =\n",
              "            document.querySelector('#' + key + ' button');\n",
              "          quickchartButtonEl.disabled = true;  // To prevent multiple clicks.\n",
              "          quickchartButtonEl.classList.add('colab-df-spinner');\n",
              "          try {\n",
              "            const charts = await google.colab.kernel.invokeFunction(\n",
              "                'suggestCharts', [key], {});\n",
              "          } catch (error) {\n",
              "            console.error('Error during call to suggestCharts:', error);\n",
              "          }\n",
              "          quickchartButtonEl.classList.remove('colab-df-spinner');\n",
              "          quickchartButtonEl.classList.add('colab-df-quickchart-complete');\n",
              "        }\n",
              "        (() => {\n",
              "          let quickchartButtonEl =\n",
              "            document.querySelector('#df-0cd24b84-ec86-4efa-bcce-2f5120573f96 button');\n",
              "          quickchartButtonEl.style.display =\n",
              "            google.colab.kernel.accessAllowed ? 'block' : 'none';\n",
              "        })();\n",
              "      </script>\n",
              "    </div>\n",
              "\n",
              "    </div>\n",
              "  </div>\n"
            ],
            "application/vnd.google.colaboratory.intrinsic+json": {
              "type": "dataframe",
              "variable_name": "top_df",
              "summary": "{\n  \"name\": \"top_df\",\n  \"rows\": 10,\n  \"fields\": [\n    {\n      \"column\": \"feature\",\n      \"properties\": {\n        \"dtype\": \"string\",\n        \"num_unique_values\": 10,\n        \"samples\": [\n          \"mfcc_2_mean\",\n          \"mfcc_5_std\",\n          \"chroma_3_mean\"\n        ],\n        \"semantic_type\": \"\",\n        \"description\": \"\"\n      }\n    },\n    {\n      \"column\": \"importance\",\n      \"properties\": {\n        \"dtype\": \"number\",\n        \"std\": 0.020241851173257556,\n        \"min\": 0.013301487646031581,\n        \"max\": 0.07292525421769293,\n        \"num_unique_values\": 10,\n        \"samples\": [\n          0.01541817383518837,\n          0.05504689355083304,\n          0.020229351951613374\n        ],\n        \"semantic_type\": \"\",\n        \"description\": \"\"\n      }\n    }\n  ]\n}"
            }
          },
          "metadata": {},
          "execution_count": 35
        }
      ]
    },
    {
      "cell_type": "code",
      "source": [
        "from sklearn.model_selection import train_test_split\n",
        "from sklearn.preprocessing import MinMaxScaler\n",
        "\n",
        "selected_features = top_df['feature'].tolist()\n",
        "f_df = df_merged[selected_features].copy()\n",
        "f_df['label'] = df_merged['call_type']\n",
        "\n",
        "scaler = MinMaxScaler()\n",
        "X_scaled = scaler.fit_transform(f_df.drop(columns=['label']))\n",
        "y = f_df['label'].values"
      ],
      "metadata": {
        "id": "h-bVxClOwUwG"
      },
      "execution_count": 37,
      "outputs": []
    },
    {
      "cell_type": "code",
      "source": [
        "from sklearn.preprocessing import LabelEncoder\n",
        "le = LabelEncoder()\n",
        "y_encoded = le.fit_transform(y)\n",
        "\n",
        "X_temp, X_test, y_temp, y_test = train_test_split(X_scaled, y_encoded, test_size=0.10, stratify=y_encoded, random_state=42)\n",
        "\n",
        "X_train, X_val, y_train, y_val = train_test_split(X_temp, y_temp, test_size=0.2, stratify=y_temp, random_state=42)"
      ],
      "metadata": {
        "id": "FFWfUId5w9Ar"
      },
      "execution_count": 41,
      "outputs": []
    },
    {
      "cell_type": "code",
      "source": [
        "import torch\n",
        "X_train_tensor = torch.tensor(X_train, dtype=torch.float32)\n",
        "X_val_tensor = torch.tensor(X_val, dtype=torch.float32)\n",
        "X_test_tensor = torch.tensor(X_test, dtype=torch.float32)\n",
        "\n",
        "y_train_tensor = torch.tensor(y_train, dtype=torch.long)\n",
        "y_val_tensor = torch.tensor(y_val, dtype=torch.long)\n",
        "y_test_tensor = torch.tensor(y_test, dtype=torch.long)"
      ],
      "metadata": {
        "id": "9n4WgZcNxLv7"
      },
      "execution_count": 42,
      "outputs": []
    },
    {
      "cell_type": "code",
      "source": [
        "print(\"데이터 분할 완료:\")\n",
        "print(f\"Train: {X_train.shape}, Val: {X_val.shape}, Test: {X_test.shape}\")\n",
        "print(f\"라벨 분포 (train): {np.bincount(y_train)}\")\n",
        "print(f\"라벨 분포 (val): {np.bincount(y_val)}\")\n",
        "print(f\"라벨 분포 (test): {np.bincount(y_test)}\")"
      ],
      "metadata": {
        "colab": {
          "base_uri": "https://localhost:8080/"
        },
        "id": "lUiOFkesxQKc",
        "outputId": "2358a259-058a-4eeb-9390-7035d9f0bd87"
      },
      "execution_count": 43,
      "outputs": [
        {
          "output_type": "stream",
          "name": "stdout",
          "text": [
            "데이터 분할 완료:\n",
            "Train: (1440, 10), Val: (360, 10), Test: (200, 10)\n",
            "라벨 분포 (train): [680 760]\n",
            "라벨 분포 (val): [170 190]\n",
            "라벨 분포 (test): [ 94 106]\n"
          ]
        }
      ]
    },
    {
      "cell_type": "code",
      "source": [
        "import torch\n",
        "import torch.nn as nn\n",
        "import torch.nn.functional as F\n",
        "\n",
        "latent_dim = 20\n",
        "label_dim = len(le.classes_)\n",
        "feature_dim = top_df.shape[0]\n",
        "\n",
        "class FeatureExtractor(nn.Module):\n",
        "    def __init__(self, D):\n",
        "        super().__init__()\n",
        "        self.D = D\n",
        "    def forward(self, x, y):\n",
        "        return self.D.get_intermediate_features(x, y)\n",
        "\n",
        "class Generator(nn.Module):\n",
        "    def __init__(self, latent_dim, label_dim, output_dim):\n",
        "        super(Generator, self).__init__()\n",
        "        self.model = nn.Sequential(\n",
        "            nn.Linear(latent_dim + label_dim, 64),\n",
        "            nn.ReLU(),\n",
        "            nn.Linear(64, 128),\n",
        "            nn.ReLU(),\n",
        "            nn.Linear(128, output_dim),\n",
        "        )\n",
        "\n",
        "    def forward(self, z, labels):\n",
        "        labels = F.one_hot(labels, num_classes=label_dim).float()\n",
        "        x = torch.cat([z, labels], dim=1)\n",
        "        return self.model(x)\n",
        "\n",
        "class Discriminator(nn.Module):\n",
        "    def __init__(self, input_dim, label_dim):\n",
        "        super().__init__()\n",
        "        self.label_dim = label_dim\n",
        "        self.embed = nn.Embedding(label_dim, label_dim)\n",
        "        self.fc1 = nn.Linear(input_dim + label_dim, 64)\n",
        "        self.fc2 = nn.Linear(64, 64)\n",
        "        self.fc3 = nn.Linear(64, 1)\n",
        "        self.aux_class = nn.Linear(64, label_dim)\n",
        "\n",
        "    def forward(self, x, y):\n",
        "        y_embed = self.embed(y)\n",
        "        x = torch.cat([x, y_embed], dim=1)\n",
        "        h1 = F.relu(self.fc1(x))\n",
        "        h2 = F.relu(self.fc2(h1))\n",
        "        out_adv = torch.sigmoid(self.fc3(h2))\n",
        "        out_cls = self.aux_class(h2)\n",
        "        return out_adv, out_cls\n",
        "\n",
        "    def get_intermediate_features(self, x, y):\n",
        "        y_embed = self.embed(y)\n",
        "        x = torch.cat([x, y_embed], dim=1)\n",
        "        h1 = F.relu(self.fc1(x))\n",
        "        h2 = F.relu(self.fc2(h1))\n",
        "        return h2"
      ],
      "metadata": {
        "id": "3e3nUd3hxz19"
      },
      "execution_count": 63,
      "outputs": []
    },
    {
      "cell_type": "code",
      "source": [
        "from torch import optim\n",
        "from torch.utils.data import DataLoader, TensorDataset\n",
        "from tqdm import tqdm\n",
        "import numpy as np\n",
        "\n",
        "adv_loss_fn = nn.BCELoss()\n",
        "cls_loss_fn = nn.CrossEntropyLoss()\n",
        "\n",
        "G = Generator(latent_dim, label_dim, feature_dim)\n",
        "D = Discriminator(feature_dim, label_dim)\n",
        "g_optimizer = optim.Adam(G.parameters(), lr=0.0002, betas=(0.5, 0.999))\n",
        "d_optimizer = optim.Adam(D.parameters(), lr=0.0002, betas=(0.5, 0.999))\n",
        "\n",
        "epochs = 100\n",
        "batch_size = 32\n",
        "train_loader = DataLoader(TensorDataset(X_train_tensor, y_train_tensor), batch_size=batch_size, shuffle=True)\n",
        "device = torch.device(\"cuda\" if torch.cuda.is_available() else \"cpu\")\n",
        "\n",
        "G.to(device)\n",
        "D.to(device)\n",
        "\n",
        "g_loss_history = []\n",
        "d_loss_history = []\n",
        "\n",
        "for epoch in range(epochs):\n",
        "    G.train()\n",
        "    D.train()\n",
        "    d_losses, g_losses = [], []\n",
        "\n",
        "    for real_data, real_labels in tqdm(train_loader, desc=f\"Epoch {epoch+1}/{epochs}\"):\n",
        "        real_data, real_labels = real_data.to(device), real_labels.to(device)\n",
        "        bs = real_data.size(0)\n",
        "\n",
        "        real_targets = torch.full((bs, 1), 0.9, device=device)\n",
        "        fake_targets = torch.zeros((bs, 1), device=device)\n",
        "\n",
        "        z = torch.randn(bs, latent_dim, device=device)\n",
        "        fake_data = G(z, real_labels)\n",
        "\n",
        "        real_out_adv, real_out_cls = D(real_data, real_labels)\n",
        "        fake_out_adv, fake_out_cls = D(fake_data.detach(), real_labels)\n",
        "\n",
        "        d_adv_loss = adv_loss_fn(real_out_adv, real_targets) + adv_loss_fn(fake_out_adv, fake_targets)\n",
        "        d_cls_loss = cls_loss_fn(real_out_cls, real_labels)\n",
        "        d_loss = d_adv_loss + d_cls_loss\n",
        "\n",
        "        d_optimizer.zero_grad()\n",
        "        d_loss.backward()\n",
        "        d_optimizer.step()\n",
        "        d_losses.append(d_loss.item())\n",
        "\n",
        "        z = torch.randn(bs, latent_dim, device=device)\n",
        "        gen_data = G(z, real_labels)\n",
        "        out_adv, out_cls = D(gen_data, real_labels)\n",
        "\n",
        "        real_feat = D.get_intermediate_features(real_data, real_labels).detach()\n",
        "        fake_feat = D.get_intermediate_features(gen_data, real_labels)\n",
        "        fm_loss = F.l1_loss(fake_feat, real_feat)\n",
        "\n",
        "        g_adv_loss = adv_loss_fn(out_adv, real_targets)\n",
        "        g_cls_loss = cls_loss_fn(out_cls, real_labels)\n",
        "        g_loss = g_adv_loss + g_cls_loss + fm_loss\n",
        "\n",
        "        g_optimizer.zero_grad()\n",
        "        g_loss.backward()\n",
        "        g_optimizer.step()\n",
        "        g_losses.append(g_loss.item())\n",
        "\n",
        "        g_loss_history.append(np.mean(g_losses))\n",
        "        d_loss_history.append(np.mean(d_losses))\n",
        "\n",
        "    print(f\"[{epoch+1}/{epochs}] D Loss: {np.mean(d_losses):.4f} | G Loss: {np.mean(g_losses):.4f}\")"
      ],
      "metadata": {
        "colab": {
          "base_uri": "https://localhost:8080/"
        },
        "id": "Vqzf1Fxk1FCm",
        "outputId": "cfe46a12-e23c-4f66-9ba7-78f0d7a2f49b"
      },
      "execution_count": 64,
      "outputs": [
        {
          "output_type": "stream",
          "name": "stderr",
          "text": [
            "Epoch 1/100: 100%|██████████| 45/45 [00:00<00:00, 125.00it/s]\n"
          ]
        },
        {
          "output_type": "stream",
          "name": "stdout",
          "text": [
            "[1/100] D Loss: 2.0089 | G Loss: 1.4209\n"
          ]
        },
        {
          "output_type": "stream",
          "name": "stderr",
          "text": [
            "Epoch 2/100: 100%|██████████| 45/45 [00:00<00:00, 152.30it/s]\n"
          ]
        },
        {
          "output_type": "stream",
          "name": "stdout",
          "text": [
            "[2/100] D Loss: 1.9290 | G Loss: 1.2975\n"
          ]
        },
        {
          "output_type": "stream",
          "name": "stderr",
          "text": [
            "Epoch 3/100: 100%|██████████| 45/45 [00:00<00:00, 145.29it/s]\n"
          ]
        },
        {
          "output_type": "stream",
          "name": "stdout",
          "text": [
            "[3/100] D Loss: 1.7848 | G Loss: 1.1883\n"
          ]
        },
        {
          "output_type": "stream",
          "name": "stderr",
          "text": [
            "Epoch 4/100: 100%|██████████| 45/45 [00:00<00:00, 137.90it/s]\n"
          ]
        },
        {
          "output_type": "stream",
          "name": "stdout",
          "text": [
            "[4/100] D Loss: 1.6216 | G Loss: 1.0647\n"
          ]
        },
        {
          "output_type": "stream",
          "name": "stderr",
          "text": [
            "Epoch 5/100: 100%|██████████| 45/45 [00:00<00:00, 140.39it/s]\n"
          ]
        },
        {
          "output_type": "stream",
          "name": "stdout",
          "text": [
            "[5/100] D Loss: 1.5112 | G Loss: 0.9527\n"
          ]
        },
        {
          "output_type": "stream",
          "name": "stderr",
          "text": [
            "Epoch 6/100: 100%|██████████| 45/45 [00:00<00:00, 146.94it/s]\n"
          ]
        },
        {
          "output_type": "stream",
          "name": "stdout",
          "text": [
            "[6/100] D Loss: 1.4505 | G Loss: 0.8952\n"
          ]
        },
        {
          "output_type": "stream",
          "name": "stderr",
          "text": [
            "Epoch 7/100: 100%|██████████| 45/45 [00:00<00:00, 136.66it/s]\n"
          ]
        },
        {
          "output_type": "stream",
          "name": "stdout",
          "text": [
            "[7/100] D Loss: 1.4139 | G Loss: 0.8628\n"
          ]
        },
        {
          "output_type": "stream",
          "name": "stderr",
          "text": [
            "Epoch 8/100: 100%|██████████| 45/45 [00:00<00:00, 146.49it/s]\n"
          ]
        },
        {
          "output_type": "stream",
          "name": "stdout",
          "text": [
            "[8/100] D Loss: 1.3965 | G Loss: 0.8487\n"
          ]
        },
        {
          "output_type": "stream",
          "name": "stderr",
          "text": [
            "Epoch 9/100: 100%|██████████| 45/45 [00:00<00:00, 149.75it/s]\n"
          ]
        },
        {
          "output_type": "stream",
          "name": "stdout",
          "text": [
            "[9/100] D Loss: 1.3895 | G Loss: 0.8371\n"
          ]
        },
        {
          "output_type": "stream",
          "name": "stderr",
          "text": [
            "Epoch 10/100: 100%|██████████| 45/45 [00:00<00:00, 130.86it/s]\n"
          ]
        },
        {
          "output_type": "stream",
          "name": "stdout",
          "text": [
            "[10/100] D Loss: 1.3866 | G Loss: 0.8314\n"
          ]
        },
        {
          "output_type": "stream",
          "name": "stderr",
          "text": [
            "Epoch 11/100: 100%|██████████| 45/45 [00:00<00:00, 144.11it/s]\n"
          ]
        },
        {
          "output_type": "stream",
          "name": "stdout",
          "text": [
            "[11/100] D Loss: 1.3832 | G Loss: 0.8282\n"
          ]
        },
        {
          "output_type": "stream",
          "name": "stderr",
          "text": [
            "Epoch 12/100: 100%|██████████| 45/45 [00:00<00:00, 136.61it/s]\n"
          ]
        },
        {
          "output_type": "stream",
          "name": "stdout",
          "text": [
            "[12/100] D Loss: 1.3819 | G Loss: 0.8236\n"
          ]
        },
        {
          "output_type": "stream",
          "name": "stderr",
          "text": [
            "Epoch 13/100: 100%|██████████| 45/45 [00:00<00:00, 128.37it/s]\n"
          ]
        },
        {
          "output_type": "stream",
          "name": "stdout",
          "text": [
            "[13/100] D Loss: 1.3796 | G Loss: 0.8249\n"
          ]
        },
        {
          "output_type": "stream",
          "name": "stderr",
          "text": [
            "Epoch 14/100: 100%|██████████| 45/45 [00:00<00:00, 135.63it/s]\n"
          ]
        },
        {
          "output_type": "stream",
          "name": "stdout",
          "text": [
            "[14/100] D Loss: 1.3777 | G Loss: 0.8214\n"
          ]
        },
        {
          "output_type": "stream",
          "name": "stderr",
          "text": [
            "Epoch 15/100: 100%|██████████| 45/45 [00:00<00:00, 121.69it/s]\n"
          ]
        },
        {
          "output_type": "stream",
          "name": "stdout",
          "text": [
            "[15/100] D Loss: 1.3764 | G Loss: 0.8291\n"
          ]
        },
        {
          "output_type": "stream",
          "name": "stderr",
          "text": [
            "Epoch 16/100: 100%|██████████| 45/45 [00:00<00:00, 94.96it/s]\n"
          ]
        },
        {
          "output_type": "stream",
          "name": "stdout",
          "text": [
            "[16/100] D Loss: 1.3750 | G Loss: 0.8204\n"
          ]
        },
        {
          "output_type": "stream",
          "name": "stderr",
          "text": [
            "Epoch 17/100: 100%|██████████| 45/45 [00:00<00:00, 98.69it/s]\n"
          ]
        },
        {
          "output_type": "stream",
          "name": "stdout",
          "text": [
            "[17/100] D Loss: 1.3756 | G Loss: 0.8325\n"
          ]
        },
        {
          "output_type": "stream",
          "name": "stderr",
          "text": [
            "Epoch 18/100: 100%|██████████| 45/45 [00:00<00:00, 91.17it/s]\n"
          ]
        },
        {
          "output_type": "stream",
          "name": "stdout",
          "text": [
            "[18/100] D Loss: 1.3767 | G Loss: 0.8225\n"
          ]
        },
        {
          "output_type": "stream",
          "name": "stderr",
          "text": [
            "Epoch 19/100: 100%|██████████| 45/45 [00:00<00:00, 49.73it/s]\n"
          ]
        },
        {
          "output_type": "stream",
          "name": "stdout",
          "text": [
            "[19/100] D Loss: 1.3767 | G Loss: 0.8309\n"
          ]
        },
        {
          "output_type": "stream",
          "name": "stderr",
          "text": [
            "Epoch 20/100: 100%|██████████| 45/45 [00:00<00:00, 47.53it/s]\n"
          ]
        },
        {
          "output_type": "stream",
          "name": "stdout",
          "text": [
            "[20/100] D Loss: 1.3768 | G Loss: 0.8217\n"
          ]
        },
        {
          "output_type": "stream",
          "name": "stderr",
          "text": [
            "Epoch 21/100: 100%|██████████| 45/45 [00:00<00:00, 51.02it/s]\n"
          ]
        },
        {
          "output_type": "stream",
          "name": "stdout",
          "text": [
            "[21/100] D Loss: 1.3742 | G Loss: 0.8254\n"
          ]
        },
        {
          "output_type": "stream",
          "name": "stderr",
          "text": [
            "Epoch 22/100: 100%|██████████| 45/45 [00:00<00:00, 55.17it/s]\n"
          ]
        },
        {
          "output_type": "stream",
          "name": "stdout",
          "text": [
            "[22/100] D Loss: 1.3739 | G Loss: 0.8255\n"
          ]
        },
        {
          "output_type": "stream",
          "name": "stderr",
          "text": [
            "Epoch 23/100: 100%|██████████| 45/45 [00:00<00:00, 80.64it/s]\n"
          ]
        },
        {
          "output_type": "stream",
          "name": "stdout",
          "text": [
            "[23/100] D Loss: 1.3757 | G Loss: 0.8221\n"
          ]
        },
        {
          "output_type": "stream",
          "name": "stderr",
          "text": [
            "Epoch 24/100: 100%|██████████| 45/45 [00:00<00:00, 79.33it/s]\n"
          ]
        },
        {
          "output_type": "stream",
          "name": "stdout",
          "text": [
            "[24/100] D Loss: 1.3728 | G Loss: 0.8260\n"
          ]
        },
        {
          "output_type": "stream",
          "name": "stderr",
          "text": [
            "Epoch 25/100: 100%|██████████| 45/45 [00:00<00:00, 114.99it/s]\n"
          ]
        },
        {
          "output_type": "stream",
          "name": "stdout",
          "text": [
            "[25/100] D Loss: 1.3754 | G Loss: 0.8189\n"
          ]
        },
        {
          "output_type": "stream",
          "name": "stderr",
          "text": [
            "Epoch 26/100: 100%|██████████| 45/45 [00:00<00:00, 78.09it/s]\n"
          ]
        },
        {
          "output_type": "stream",
          "name": "stdout",
          "text": [
            "[26/100] D Loss: 1.3755 | G Loss: 0.8257\n"
          ]
        },
        {
          "output_type": "stream",
          "name": "stderr",
          "text": [
            "Epoch 27/100: 100%|██████████| 45/45 [00:00<00:00, 83.30it/s]\n"
          ]
        },
        {
          "output_type": "stream",
          "name": "stdout",
          "text": [
            "[27/100] D Loss: 1.3738 | G Loss: 0.8222\n"
          ]
        },
        {
          "output_type": "stream",
          "name": "stderr",
          "text": [
            "Epoch 28/100: 100%|██████████| 45/45 [00:00<00:00, 79.20it/s]\n"
          ]
        },
        {
          "output_type": "stream",
          "name": "stdout",
          "text": [
            "[28/100] D Loss: 1.3741 | G Loss: 0.8262\n"
          ]
        },
        {
          "output_type": "stream",
          "name": "stderr",
          "text": [
            "Epoch 29/100: 100%|██████████| 45/45 [00:00<00:00, 93.85it/s]\n"
          ]
        },
        {
          "output_type": "stream",
          "name": "stdout",
          "text": [
            "[29/100] D Loss: 1.3719 | G Loss: 0.8260\n"
          ]
        },
        {
          "output_type": "stream",
          "name": "stderr",
          "text": [
            "Epoch 30/100: 100%|██████████| 45/45 [00:00<00:00, 97.55it/s]\n"
          ]
        },
        {
          "output_type": "stream",
          "name": "stdout",
          "text": [
            "[30/100] D Loss: 1.3712 | G Loss: 0.8284\n"
          ]
        },
        {
          "output_type": "stream",
          "name": "stderr",
          "text": [
            "Epoch 31/100: 100%|██████████| 45/45 [00:01<00:00, 40.25it/s]\n"
          ]
        },
        {
          "output_type": "stream",
          "name": "stdout",
          "text": [
            "[31/100] D Loss: 1.3703 | G Loss: 0.8281\n"
          ]
        },
        {
          "output_type": "stream",
          "name": "stderr",
          "text": [
            "Epoch 32/100: 100%|██████████| 45/45 [00:01<00:00, 29.67it/s]\n"
          ]
        },
        {
          "output_type": "stream",
          "name": "stdout",
          "text": [
            "[32/100] D Loss: 1.3698 | G Loss: 0.8272\n"
          ]
        },
        {
          "output_type": "stream",
          "name": "stderr",
          "text": [
            "Epoch 33/100: 100%|██████████| 45/45 [00:01<00:00, 28.71it/s]\n"
          ]
        },
        {
          "output_type": "stream",
          "name": "stdout",
          "text": [
            "[33/100] D Loss: 1.3719 | G Loss: 0.8300\n"
          ]
        },
        {
          "output_type": "stream",
          "name": "stderr",
          "text": [
            "Epoch 34/100: 100%|██████████| 45/45 [00:01<00:00, 38.73it/s]\n"
          ]
        },
        {
          "output_type": "stream",
          "name": "stdout",
          "text": [
            "[34/100] D Loss: 1.3726 | G Loss: 0.8339\n"
          ]
        },
        {
          "output_type": "stream",
          "name": "stderr",
          "text": [
            "Epoch 35/100: 100%|██████████| 45/45 [00:01<00:00, 28.85it/s]\n"
          ]
        },
        {
          "output_type": "stream",
          "name": "stdout",
          "text": [
            "[35/100] D Loss: 1.3714 | G Loss: 0.8315\n"
          ]
        },
        {
          "output_type": "stream",
          "name": "stderr",
          "text": [
            "Epoch 36/100: 100%|██████████| 45/45 [00:01<00:00, 25.00it/s]\n"
          ]
        },
        {
          "output_type": "stream",
          "name": "stdout",
          "text": [
            "[36/100] D Loss: 1.3709 | G Loss: 0.8298\n"
          ]
        },
        {
          "output_type": "stream",
          "name": "stderr",
          "text": [
            "Epoch 37/100: 100%|██████████| 45/45 [00:01<00:00, 39.09it/s]\n"
          ]
        },
        {
          "output_type": "stream",
          "name": "stdout",
          "text": [
            "[37/100] D Loss: 1.3696 | G Loss: 0.8325\n"
          ]
        },
        {
          "output_type": "stream",
          "name": "stderr",
          "text": [
            "Epoch 38/100: 100%|██████████| 45/45 [00:01<00:00, 41.48it/s]\n"
          ]
        },
        {
          "output_type": "stream",
          "name": "stdout",
          "text": [
            "[38/100] D Loss: 1.3718 | G Loss: 0.8318\n"
          ]
        },
        {
          "output_type": "stream",
          "name": "stderr",
          "text": [
            "Epoch 39/100: 100%|██████████| 45/45 [00:00<00:00, 55.42it/s]\n"
          ]
        },
        {
          "output_type": "stream",
          "name": "stdout",
          "text": [
            "[39/100] D Loss: 1.3708 | G Loss: 0.8369\n"
          ]
        },
        {
          "output_type": "stream",
          "name": "stderr",
          "text": [
            "Epoch 40/100: 100%|██████████| 45/45 [00:00<00:00, 77.02it/s]\n"
          ]
        },
        {
          "output_type": "stream",
          "name": "stdout",
          "text": [
            "[40/100] D Loss: 1.3722 | G Loss: 0.8331\n"
          ]
        },
        {
          "output_type": "stream",
          "name": "stderr",
          "text": [
            "Epoch 41/100: 100%|██████████| 45/45 [00:00<00:00, 127.82it/s]\n"
          ]
        },
        {
          "output_type": "stream",
          "name": "stdout",
          "text": [
            "[41/100] D Loss: 1.3744 | G Loss: 0.8358\n"
          ]
        },
        {
          "output_type": "stream",
          "name": "stderr",
          "text": [
            "Epoch 42/100: 100%|██████████| 45/45 [00:00<00:00, 130.88it/s]\n"
          ]
        },
        {
          "output_type": "stream",
          "name": "stdout",
          "text": [
            "[42/100] D Loss: 1.3708 | G Loss: 0.8292\n"
          ]
        },
        {
          "output_type": "stream",
          "name": "stderr",
          "text": [
            "Epoch 43/100: 100%|██████████| 45/45 [00:00<00:00, 132.16it/s]\n"
          ]
        },
        {
          "output_type": "stream",
          "name": "stdout",
          "text": [
            "[43/100] D Loss: 1.3745 | G Loss: 0.8338\n"
          ]
        },
        {
          "output_type": "stream",
          "name": "stderr",
          "text": [
            "Epoch 44/100: 100%|██████████| 45/45 [00:00<00:00, 126.08it/s]\n"
          ]
        },
        {
          "output_type": "stream",
          "name": "stdout",
          "text": [
            "[44/100] D Loss: 1.3729 | G Loss: 0.8388\n"
          ]
        },
        {
          "output_type": "stream",
          "name": "stderr",
          "text": [
            "Epoch 45/100: 100%|██████████| 45/45 [00:00<00:00, 124.04it/s]\n"
          ]
        },
        {
          "output_type": "stream",
          "name": "stdout",
          "text": [
            "[45/100] D Loss: 1.3723 | G Loss: 0.8312\n"
          ]
        },
        {
          "output_type": "stream",
          "name": "stderr",
          "text": [
            "Epoch 46/100: 100%|██████████| 45/45 [00:00<00:00, 134.25it/s]\n"
          ]
        },
        {
          "output_type": "stream",
          "name": "stdout",
          "text": [
            "[46/100] D Loss: 1.3727 | G Loss: 0.8363\n"
          ]
        },
        {
          "output_type": "stream",
          "name": "stderr",
          "text": [
            "Epoch 47/100: 100%|██████████| 45/45 [00:00<00:00, 121.16it/s]\n"
          ]
        },
        {
          "output_type": "stream",
          "name": "stdout",
          "text": [
            "[47/100] D Loss: 1.3742 | G Loss: 0.8384\n"
          ]
        },
        {
          "output_type": "stream",
          "name": "stderr",
          "text": [
            "Epoch 48/100: 100%|██████████| 45/45 [00:00<00:00, 134.07it/s]\n"
          ]
        },
        {
          "output_type": "stream",
          "name": "stdout",
          "text": [
            "[48/100] D Loss: 1.3726 | G Loss: 0.8353\n"
          ]
        },
        {
          "output_type": "stream",
          "name": "stderr",
          "text": [
            "Epoch 49/100: 100%|██████████| 45/45 [00:00<00:00, 129.45it/s]\n"
          ]
        },
        {
          "output_type": "stream",
          "name": "stdout",
          "text": [
            "[49/100] D Loss: 1.3717 | G Loss: 0.8350\n"
          ]
        },
        {
          "output_type": "stream",
          "name": "stderr",
          "text": [
            "Epoch 50/100: 100%|██████████| 45/45 [00:00<00:00, 137.18it/s]\n"
          ]
        },
        {
          "output_type": "stream",
          "name": "stdout",
          "text": [
            "[50/100] D Loss: 1.3726 | G Loss: 0.8381\n"
          ]
        },
        {
          "output_type": "stream",
          "name": "stderr",
          "text": [
            "Epoch 51/100: 100%|██████████| 45/45 [00:00<00:00, 137.78it/s]\n"
          ]
        },
        {
          "output_type": "stream",
          "name": "stdout",
          "text": [
            "[51/100] D Loss: 1.3724 | G Loss: 0.8390\n"
          ]
        },
        {
          "output_type": "stream",
          "name": "stderr",
          "text": [
            "Epoch 52/100: 100%|██████████| 45/45 [00:00<00:00, 135.68it/s]\n"
          ]
        },
        {
          "output_type": "stream",
          "name": "stdout",
          "text": [
            "[52/100] D Loss: 1.3736 | G Loss: 0.8406\n"
          ]
        },
        {
          "output_type": "stream",
          "name": "stderr",
          "text": [
            "Epoch 53/100: 100%|██████████| 45/45 [00:00<00:00, 126.05it/s]\n"
          ]
        },
        {
          "output_type": "stream",
          "name": "stdout",
          "text": [
            "[53/100] D Loss: 1.3714 | G Loss: 0.8356\n"
          ]
        },
        {
          "output_type": "stream",
          "name": "stderr",
          "text": [
            "Epoch 54/100: 100%|██████████| 45/45 [00:00<00:00, 135.77it/s]\n"
          ]
        },
        {
          "output_type": "stream",
          "name": "stdout",
          "text": [
            "[54/100] D Loss: 1.3693 | G Loss: 0.8350\n"
          ]
        },
        {
          "output_type": "stream",
          "name": "stderr",
          "text": [
            "Epoch 55/100: 100%|██████████| 45/45 [00:00<00:00, 130.41it/s]\n"
          ]
        },
        {
          "output_type": "stream",
          "name": "stdout",
          "text": [
            "[55/100] D Loss: 1.3713 | G Loss: 0.8383\n"
          ]
        },
        {
          "output_type": "stream",
          "name": "stderr",
          "text": [
            "Epoch 56/100: 100%|██████████| 45/45 [00:00<00:00, 119.65it/s]\n"
          ]
        },
        {
          "output_type": "stream",
          "name": "stdout",
          "text": [
            "[56/100] D Loss: 1.3725 | G Loss: 0.8413\n"
          ]
        },
        {
          "output_type": "stream",
          "name": "stderr",
          "text": [
            "Epoch 57/100: 100%|██████████| 45/45 [00:00<00:00, 125.79it/s]\n"
          ]
        },
        {
          "output_type": "stream",
          "name": "stdout",
          "text": [
            "[57/100] D Loss: 1.3732 | G Loss: 0.8374\n"
          ]
        },
        {
          "output_type": "stream",
          "name": "stderr",
          "text": [
            "Epoch 58/100: 100%|██████████| 45/45 [00:00<00:00, 127.90it/s]\n"
          ]
        },
        {
          "output_type": "stream",
          "name": "stdout",
          "text": [
            "[58/100] D Loss: 1.3708 | G Loss: 0.8378\n"
          ]
        },
        {
          "output_type": "stream",
          "name": "stderr",
          "text": [
            "Epoch 59/100: 100%|██████████| 45/45 [00:00<00:00, 121.18it/s]\n"
          ]
        },
        {
          "output_type": "stream",
          "name": "stdout",
          "text": [
            "[59/100] D Loss: 1.3730 | G Loss: 0.8362\n"
          ]
        },
        {
          "output_type": "stream",
          "name": "stderr",
          "text": [
            "Epoch 60/100: 100%|██████████| 45/45 [00:00<00:00, 138.21it/s]\n"
          ]
        },
        {
          "output_type": "stream",
          "name": "stdout",
          "text": [
            "[60/100] D Loss: 1.3730 | G Loss: 0.8399\n"
          ]
        },
        {
          "output_type": "stream",
          "name": "stderr",
          "text": [
            "Epoch 61/100: 100%|██████████| 45/45 [00:00<00:00, 131.05it/s]\n"
          ]
        },
        {
          "output_type": "stream",
          "name": "stdout",
          "text": [
            "[61/100] D Loss: 1.3710 | G Loss: 0.8420\n"
          ]
        },
        {
          "output_type": "stream",
          "name": "stderr",
          "text": [
            "Epoch 62/100: 100%|██████████| 45/45 [00:00<00:00, 129.61it/s]\n"
          ]
        },
        {
          "output_type": "stream",
          "name": "stdout",
          "text": [
            "[62/100] D Loss: 1.3734 | G Loss: 0.8411\n"
          ]
        },
        {
          "output_type": "stream",
          "name": "stderr",
          "text": [
            "Epoch 63/100: 100%|██████████| 45/45 [00:00<00:00, 130.56it/s]\n"
          ]
        },
        {
          "output_type": "stream",
          "name": "stdout",
          "text": [
            "[63/100] D Loss: 1.3727 | G Loss: 0.8398\n"
          ]
        },
        {
          "output_type": "stream",
          "name": "stderr",
          "text": [
            "Epoch 64/100: 100%|██████████| 45/45 [00:00<00:00, 133.77it/s]\n"
          ]
        },
        {
          "output_type": "stream",
          "name": "stdout",
          "text": [
            "[64/100] D Loss: 1.3706 | G Loss: 0.8392\n"
          ]
        },
        {
          "output_type": "stream",
          "name": "stderr",
          "text": [
            "Epoch 65/100: 100%|██████████| 45/45 [00:00<00:00, 129.31it/s]\n"
          ]
        },
        {
          "output_type": "stream",
          "name": "stdout",
          "text": [
            "[65/100] D Loss: 1.3732 | G Loss: 0.8408\n"
          ]
        },
        {
          "output_type": "stream",
          "name": "stderr",
          "text": [
            "Epoch 66/100: 100%|██████████| 45/45 [00:00<00:00, 109.77it/s]\n"
          ]
        },
        {
          "output_type": "stream",
          "name": "stdout",
          "text": [
            "[66/100] D Loss: 1.3738 | G Loss: 0.8387\n"
          ]
        },
        {
          "output_type": "stream",
          "name": "stderr",
          "text": [
            "Epoch 67/100: 100%|██████████| 45/45 [00:00<00:00, 89.29it/s]\n"
          ]
        },
        {
          "output_type": "stream",
          "name": "stdout",
          "text": [
            "[67/100] D Loss: 1.3709 | G Loss: 0.8412\n"
          ]
        },
        {
          "output_type": "stream",
          "name": "stderr",
          "text": [
            "Epoch 68/100: 100%|██████████| 45/45 [00:00<00:00, 94.87it/s]\n"
          ]
        },
        {
          "output_type": "stream",
          "name": "stdout",
          "text": [
            "[68/100] D Loss: 1.3715 | G Loss: 0.8395\n"
          ]
        },
        {
          "output_type": "stream",
          "name": "stderr",
          "text": [
            "Epoch 69/100: 100%|██████████| 45/45 [00:00<00:00, 96.53it/s]\n"
          ]
        },
        {
          "output_type": "stream",
          "name": "stdout",
          "text": [
            "[69/100] D Loss: 1.3693 | G Loss: 0.8385\n"
          ]
        },
        {
          "output_type": "stream",
          "name": "stderr",
          "text": [
            "Epoch 70/100: 100%|██████████| 45/45 [00:00<00:00, 95.89it/s]\n"
          ]
        },
        {
          "output_type": "stream",
          "name": "stdout",
          "text": [
            "[70/100] D Loss: 1.3715 | G Loss: 0.8437\n"
          ]
        },
        {
          "output_type": "stream",
          "name": "stderr",
          "text": [
            "Epoch 71/100: 100%|██████████| 45/45 [00:00<00:00, 95.56it/s]\n"
          ]
        },
        {
          "output_type": "stream",
          "name": "stdout",
          "text": [
            "[71/100] D Loss: 1.3719 | G Loss: 0.8409\n"
          ]
        },
        {
          "output_type": "stream",
          "name": "stderr",
          "text": [
            "Epoch 72/100: 100%|██████████| 45/45 [00:00<00:00, 97.89it/s]\n"
          ]
        },
        {
          "output_type": "stream",
          "name": "stdout",
          "text": [
            "[72/100] D Loss: 1.3729 | G Loss: 0.8420\n"
          ]
        },
        {
          "output_type": "stream",
          "name": "stderr",
          "text": [
            "Epoch 73/100: 100%|██████████| 45/45 [00:00<00:00, 89.75it/s]\n"
          ]
        },
        {
          "output_type": "stream",
          "name": "stdout",
          "text": [
            "[73/100] D Loss: 1.3729 | G Loss: 0.8408\n"
          ]
        },
        {
          "output_type": "stream",
          "name": "stderr",
          "text": [
            "Epoch 74/100: 100%|██████████| 45/45 [00:00<00:00, 84.10it/s]\n"
          ]
        },
        {
          "output_type": "stream",
          "name": "stdout",
          "text": [
            "[74/100] D Loss: 1.3708 | G Loss: 0.8430\n"
          ]
        },
        {
          "output_type": "stream",
          "name": "stderr",
          "text": [
            "Epoch 75/100: 100%|██████████| 45/45 [00:00<00:00, 89.33it/s]\n"
          ]
        },
        {
          "output_type": "stream",
          "name": "stdout",
          "text": [
            "[75/100] D Loss: 1.3722 | G Loss: 0.8410\n"
          ]
        },
        {
          "output_type": "stream",
          "name": "stderr",
          "text": [
            "Epoch 76/100: 100%|██████████| 45/45 [00:00<00:00, 145.23it/s]\n"
          ]
        },
        {
          "output_type": "stream",
          "name": "stdout",
          "text": [
            "[76/100] D Loss: 1.3713 | G Loss: 0.8458\n"
          ]
        },
        {
          "output_type": "stream",
          "name": "stderr",
          "text": [
            "Epoch 77/100: 100%|██████████| 45/45 [00:00<00:00, 135.66it/s]\n"
          ]
        },
        {
          "output_type": "stream",
          "name": "stdout",
          "text": [
            "[77/100] D Loss: 1.3704 | G Loss: 0.8427\n"
          ]
        },
        {
          "output_type": "stream",
          "name": "stderr",
          "text": [
            "Epoch 78/100: 100%|██████████| 45/45 [00:00<00:00, 146.86it/s]\n"
          ]
        },
        {
          "output_type": "stream",
          "name": "stdout",
          "text": [
            "[78/100] D Loss: 1.3715 | G Loss: 0.8424\n"
          ]
        },
        {
          "output_type": "stream",
          "name": "stderr",
          "text": [
            "Epoch 79/100: 100%|██████████| 45/45 [00:00<00:00, 144.08it/s]\n"
          ]
        },
        {
          "output_type": "stream",
          "name": "stdout",
          "text": [
            "[79/100] D Loss: 1.3709 | G Loss: 0.8469\n"
          ]
        },
        {
          "output_type": "stream",
          "name": "stderr",
          "text": [
            "Epoch 80/100: 100%|██████████| 45/45 [00:00<00:00, 130.26it/s]\n"
          ]
        },
        {
          "output_type": "stream",
          "name": "stdout",
          "text": [
            "[80/100] D Loss: 1.3706 | G Loss: 0.8438\n"
          ]
        },
        {
          "output_type": "stream",
          "name": "stderr",
          "text": [
            "Epoch 81/100: 100%|██████████| 45/45 [00:00<00:00, 144.19it/s]\n"
          ]
        },
        {
          "output_type": "stream",
          "name": "stdout",
          "text": [
            "[81/100] D Loss: 1.3717 | G Loss: 0.8446\n"
          ]
        },
        {
          "output_type": "stream",
          "name": "stderr",
          "text": [
            "Epoch 82/100: 100%|██████████| 45/45 [00:00<00:00, 147.39it/s]\n"
          ]
        },
        {
          "output_type": "stream",
          "name": "stdout",
          "text": [
            "[82/100] D Loss: 1.3720 | G Loss: 0.8481\n"
          ]
        },
        {
          "output_type": "stream",
          "name": "stderr",
          "text": [
            "Epoch 83/100: 100%|██████████| 45/45 [00:00<00:00, 127.48it/s]\n"
          ]
        },
        {
          "output_type": "stream",
          "name": "stdout",
          "text": [
            "[83/100] D Loss: 1.3708 | G Loss: 0.8474\n"
          ]
        },
        {
          "output_type": "stream",
          "name": "stderr",
          "text": [
            "Epoch 84/100: 100%|██████████| 45/45 [00:00<00:00, 133.42it/s]\n"
          ]
        },
        {
          "output_type": "stream",
          "name": "stdout",
          "text": [
            "[84/100] D Loss: 1.3714 | G Loss: 0.8473\n"
          ]
        },
        {
          "output_type": "stream",
          "name": "stderr",
          "text": [
            "Epoch 85/100: 100%|██████████| 45/45 [00:00<00:00, 145.61it/s]\n"
          ]
        },
        {
          "output_type": "stream",
          "name": "stdout",
          "text": [
            "[85/100] D Loss: 1.3701 | G Loss: 0.8477\n"
          ]
        },
        {
          "output_type": "stream",
          "name": "stderr",
          "text": [
            "Epoch 86/100: 100%|██████████| 45/45 [00:00<00:00, 127.34it/s]\n"
          ]
        },
        {
          "output_type": "stream",
          "name": "stdout",
          "text": [
            "[86/100] D Loss: 1.3717 | G Loss: 0.8498\n"
          ]
        },
        {
          "output_type": "stream",
          "name": "stderr",
          "text": [
            "Epoch 87/100: 100%|██████████| 45/45 [00:00<00:00, 139.57it/s]\n"
          ]
        },
        {
          "output_type": "stream",
          "name": "stdout",
          "text": [
            "[87/100] D Loss: 1.3705 | G Loss: 0.8492\n"
          ]
        },
        {
          "output_type": "stream",
          "name": "stderr",
          "text": [
            "Epoch 88/100: 100%|██████████| 45/45 [00:00<00:00, 144.43it/s]\n"
          ]
        },
        {
          "output_type": "stream",
          "name": "stdout",
          "text": [
            "[88/100] D Loss: 1.3707 | G Loss: 0.8467\n"
          ]
        },
        {
          "output_type": "stream",
          "name": "stderr",
          "text": [
            "Epoch 89/100: 100%|██████████| 45/45 [00:00<00:00, 134.59it/s]\n"
          ]
        },
        {
          "output_type": "stream",
          "name": "stdout",
          "text": [
            "[89/100] D Loss: 1.3725 | G Loss: 0.8511\n"
          ]
        },
        {
          "output_type": "stream",
          "name": "stderr",
          "text": [
            "Epoch 90/100: 100%|██████████| 45/45 [00:00<00:00, 126.36it/s]\n"
          ]
        },
        {
          "output_type": "stream",
          "name": "stdout",
          "text": [
            "[90/100] D Loss: 1.3723 | G Loss: 0.8499\n"
          ]
        },
        {
          "output_type": "stream",
          "name": "stderr",
          "text": [
            "Epoch 91/100: 100%|██████████| 45/45 [00:00<00:00, 142.47it/s]\n"
          ]
        },
        {
          "output_type": "stream",
          "name": "stdout",
          "text": [
            "[91/100] D Loss: 1.3713 | G Loss: 0.8519\n"
          ]
        },
        {
          "output_type": "stream",
          "name": "stderr",
          "text": [
            "Epoch 92/100: 100%|██████████| 45/45 [00:00<00:00, 128.38it/s]\n"
          ]
        },
        {
          "output_type": "stream",
          "name": "stdout",
          "text": [
            "[92/100] D Loss: 1.3710 | G Loss: 0.8468\n"
          ]
        },
        {
          "output_type": "stream",
          "name": "stderr",
          "text": [
            "Epoch 93/100: 100%|██████████| 45/45 [00:00<00:00, 132.06it/s]\n"
          ]
        },
        {
          "output_type": "stream",
          "name": "stdout",
          "text": [
            "[93/100] D Loss: 1.3721 | G Loss: 0.8538\n"
          ]
        },
        {
          "output_type": "stream",
          "name": "stderr",
          "text": [
            "Epoch 94/100: 100%|██████████| 45/45 [00:00<00:00, 137.92it/s]\n"
          ]
        },
        {
          "output_type": "stream",
          "name": "stdout",
          "text": [
            "[94/100] D Loss: 1.3710 | G Loss: 0.8489\n"
          ]
        },
        {
          "output_type": "stream",
          "name": "stderr",
          "text": [
            "Epoch 95/100: 100%|██████████| 45/45 [00:00<00:00, 129.14it/s]\n"
          ]
        },
        {
          "output_type": "stream",
          "name": "stdout",
          "text": [
            "[95/100] D Loss: 1.3720 | G Loss: 0.8534\n"
          ]
        },
        {
          "output_type": "stream",
          "name": "stderr",
          "text": [
            "Epoch 96/100: 100%|██████████| 45/45 [00:00<00:00, 134.61it/s]\n"
          ]
        },
        {
          "output_type": "stream",
          "name": "stdout",
          "text": [
            "[96/100] D Loss: 1.3698 | G Loss: 0.8511\n"
          ]
        },
        {
          "output_type": "stream",
          "name": "stderr",
          "text": [
            "Epoch 97/100: 100%|██████████| 45/45 [00:00<00:00, 141.85it/s]\n"
          ]
        },
        {
          "output_type": "stream",
          "name": "stdout",
          "text": [
            "[97/100] D Loss: 1.3694 | G Loss: 0.8513\n"
          ]
        },
        {
          "output_type": "stream",
          "name": "stderr",
          "text": [
            "Epoch 98/100: 100%|██████████| 45/45 [00:00<00:00, 123.92it/s]\n"
          ]
        },
        {
          "output_type": "stream",
          "name": "stdout",
          "text": [
            "[98/100] D Loss: 1.3713 | G Loss: 0.8547\n"
          ]
        },
        {
          "output_type": "stream",
          "name": "stderr",
          "text": [
            "Epoch 99/100: 100%|██████████| 45/45 [00:00<00:00, 136.64it/s]\n"
          ]
        },
        {
          "output_type": "stream",
          "name": "stdout",
          "text": [
            "[99/100] D Loss: 1.3711 | G Loss: 0.8501\n"
          ]
        },
        {
          "output_type": "stream",
          "name": "stderr",
          "text": [
            "Epoch 100/100: 100%|██████████| 45/45 [00:00<00:00, 132.74it/s]"
          ]
        },
        {
          "output_type": "stream",
          "name": "stdout",
          "text": [
            "[100/100] D Loss: 1.3706 | G Loss: 0.8553\n"
          ]
        },
        {
          "output_type": "stream",
          "name": "stderr",
          "text": [
            "\n"
          ]
        }
      ]
    },
    {
      "cell_type": "code",
      "source": [
        "plt.figure(figsize=(10, 5))\n",
        "plt.plot(g_loss_history, label='Generator Loss')\n",
        "plt.plot(d_loss_history, label='Discriminator Loss')\n",
        "plt.xlabel('Epoch')\n",
        "plt.ylabel('Loss')\n",
        "plt.title('GAN Training Loss History')\n",
        "plt.legend()\n",
        "plt.grid(True)\n",
        "plt.tight_layout()\n",
        "plt.show()"
      ],
      "metadata": {
        "colab": {
          "base_uri": "https://localhost:8080/",
          "height": 507
        },
        "id": "Aohc5HLw3lRe",
        "outputId": "6013ae16-6c6a-431e-f884-538720e102e0"
      },
      "execution_count": 65,
      "outputs": [
        {
          "output_type": "display_data",
          "data": {
            "text/plain": [
              "<Figure size 1000x500 with 1 Axes>"
            ],
            "image/png": "[encoded data removed]"
          },
          "metadata": {}
        }
      ]
    },
    {
      "cell_type": "code",
      "source": [
        "from sklearn.linear_model import LogisticRegression\n",
        "from sklearn.metrics import classification_report\n",
        "\n",
        "G.eval()\n",
        "\n",
        "n_samples = len(X_test_tensor)\n",
        "z = torch.randn(n_samples, latent_dim).to(device)\n",
        "test_labels = y_test_tensor.to(device)\n",
        "gen_samples = G(z, test_labels).detach().cpu().numpy()\n",
        "true_labels = test_labels.cpu().numpy()\n",
        "\n",
        "clf = LogisticRegression(max_iter=1000)\n",
        "clf.fit(X_train, y_train)\n",
        "\n",
        "y_pred_real = clf.predict(X_test)\n",
        "print(\"Real Test Set Result:\")\n",
        "print(classification_report(y_test, y_pred_real, target_names=le.classes_))\n",
        "\n",
        "y_pred_gen = clf.predict(gen_samples)\n",
        "print(\"GAN Generated Sample Result:\")\n",
        "print(classification_report(true_labels, y_pred_gen, target_names=le.classes_))"
      ],
      "metadata": {
        "colab": {
          "base_uri": "https://localhost:8080/"
        },
        "id": "Lsii-0_Mzf6t",
        "outputId": "191d4378-1203-455d-c6c6-f60933d4f8fd"
      },
      "execution_count": 66,
      "outputs": [
        {
          "output_type": "stream",
          "name": "stdout",
          "text": [
            "Real Test Set Result:\n",
            "              precision    recall  f1-score   support\n",
            "\n",
            "  chattering       0.85      0.87      0.86        94\n",
            "     screech       0.88      0.86      0.87       106\n",
            "\n",
            "    accuracy                           0.86       200\n",
            "   macro avg       0.86      0.87      0.86       200\n",
            "weighted avg       0.87      0.86      0.87       200\n",
            "\n",
            "GAN Generated Sample Result:\n",
            "              precision    recall  f1-score   support\n",
            "\n",
            "  chattering       0.83      0.91      0.87        94\n",
            "     screech       0.92      0.84      0.88       106\n",
            "\n",
            "    accuracy                           0.88       200\n",
            "   macro avg       0.88      0.88      0.87       200\n",
            "weighted avg       0.88      0.88      0.88       200\n",
            "\n"
          ]
        }
      ]
    },
    {
      "cell_type": "code",
      "source": [
        "from sklearn.manifold import TSNE\n",
        "import matplotlib.pyplot as plt\n",
        "import seaborn as sns\n",
        "\n",
        "X_real_vis = X_test\n",
        "y_real_vis = y_test\n",
        "\n",
        "with torch.no_grad():\n",
        "    G.eval()\n",
        "    z = torch.randn(len(X_test), latent_dim, device=device)\n",
        "    labels = torch.tensor(y_test, dtype=torch.long, device=device)\n",
        "    X_fake_vis = G(z, labels).cpu().numpy()\n",
        "    y_fake_vis = y_test\n",
        "\n",
        "X_combined = np.vstack([X_real_vis, X_fake_vis])\n",
        "y_combined = np.hstack([['Real'] * len(X_real_vis), ['Fake'] * len(X_fake_vis)])\n",
        "label_combined = np.hstack([y_real_vis, y_fake_vis])\n",
        "\n",
        "tsne = TSNE(n_components=2, random_state=42)\n",
        "X_2d = tsne.fit_transform(X_combined)\n",
        "\n",
        "plt.figure(figsize=(10, 6))\n",
        "sns.scatterplot(\n",
        "    x=X_2d[:, 0], y=X_2d[:, 1],\n",
        "    hue=y_combined,\n",
        "    style=label_combined,\n",
        "    palette='Set1',\n",
        "    alpha=0.7,\n",
        "    s=50\n",
        ")\n",
        "plt.title(\"t-SNE: Real vs GAN Generated Samples\")\n",
        "plt.xlabel(\"TSNE-1\")\n",
        "plt.ylabel(\"TSNE-2\")\n",
        "plt.legend(title='Sample Type / Class')\n",
        "plt.tight_layout()\n",
        "plt.show()"
      ],
      "metadata": {
        "colab": {
          "base_uri": "https://localhost:8080/",
          "height": 607
        },
        "id": "ajH9KCDM5OIr",
        "outputId": "b4e70dbc-e8df-44ba-bbd9-b6cf53db3fff"
      },
      "execution_count": 67,
      "outputs": [
        {
          "output_type": "display_data",
          "data": {
            "text/plain": [
              "<Figure size 1000x600 with 1 Axes>"
            ],
            "image/png": "[encoded data removed]"
          },
          "metadata": {}
        }
      ]
    }
  ]
}